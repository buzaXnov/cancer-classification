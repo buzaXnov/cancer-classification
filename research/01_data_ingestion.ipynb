{
 "cells": [
  {
   "cell_type": "code",
   "execution_count": 1,
   "metadata": {},
   "outputs": [
    {
     "data": {
      "text/plain": [
       "'/home/filip/Documents/cancer-classification/research'"
      ]
     },
     "execution_count": 1,
     "metadata": {},
     "output_type": "execute_result"
    }
   ],
   "source": [
    "%pwd"
   ]
  },
  {
   "cell_type": "code",
   "execution_count": 2,
   "metadata": {},
   "outputs": [],
   "source": [
    "import os\n",
    "\n",
    "os.chdir(\"../\")"
   ]
  },
  {
   "cell_type": "code",
   "execution_count": 3,
   "metadata": {},
   "outputs": [
    {
     "data": {
      "text/plain": [
       "'/home/filip/Documents/cancer-classification'"
      ]
     },
     "execution_count": 3,
     "metadata": {},
     "output_type": "execute_result"
    }
   ],
   "source": [
    "%pwd"
   ]
  },
  {
   "cell_type": "code",
   "execution_count": 4,
   "metadata": {},
   "outputs": [],
   "source": [
    "from dataclasses import dataclass\n",
    "from pathlib import Path\n",
    "\n",
    "@dataclass(frozen=True)\n",
    "class DataIngestionConfig:\n",
    "    root_dir: Path\n",
    "    source_URL: str\n",
    "    local_data_file: Path\n",
    "    unzip_dir: Path"
   ]
  },
  {
   "cell_type": "code",
   "execution_count": 5,
   "metadata": {},
   "outputs": [],
   "source": [
    "from cnnClassifier.constants import *\n",
    "from cnnClassifier.utils.common import read_yaml, create_directories"
   ]
  },
  {
   "cell_type": "code",
   "execution_count": 6,
   "metadata": {},
   "outputs": [],
   "source": [
    "class ConfigurationManager:\n",
    "    def __init__(\n",
    "        self, config_filepath=CONFIG_FILE_PATH, params_filepath=PARAMS_FILE_PATH\n",
    "    ) -> None:\n",
    "        self.config = read_yaml(config_filepath)\n",
    "        self.params = read_yaml(params_filepath)\n",
    "\n",
    "        create_directories([self.config.artifacts_root])\n",
    "\n",
    "    def get_data_ingestion_config(self) -> DataIngestionConfig:\n",
    "        config = self.config.data_ingestion\n",
    "\n",
    "        create_directories([config.root_dir])\n",
    "\n",
    "        data_ingestion_config = DataIngestionConfig(\n",
    "            root_dir=config.root_dir,\n",
    "            source_URL=config.source_URL,\n",
    "            local_data_file=config.local_data_file,\n",
    "            unzip_dir=config.unzip_dir\n",
    "        )\n",
    "\n",
    "        return data_ingestion_config"
   ]
  },
  {
   "cell_type": "code",
   "execution_count": 7,
   "metadata": {},
   "outputs": [],
   "source": [
    "import os\n",
    "import zipfile\n",
    "import gdown\n",
    "from cnnClassifier import logger\n",
    "# from cnnClassifier.utils.common import get_size"
   ]
  },
  {
   "cell_type": "code",
   "execution_count": 14,
   "metadata": {},
   "outputs": [],
   "source": [
    "class DataIngestion:\n",
    "    def __init__(self, config: DataIngestionConfig) -> None:\n",
    "        self.config = config\n",
    "\n",
    "    def download_data(self):\n",
    "        \"\"\"Downloads the dataset as a zip file from Google Drive.\"\"\"\n",
    "        try:\n",
    "            dataset_url = self.config.source_URL\n",
    "            zip_download_dir = self.config.local_data_file\n",
    "\n",
    "            os.makedirs(\"artifacts/data_ingestion\", exist_ok=True)\n",
    "            logger.info(f\"Downloading data from {dataset_url} into file {zip_download_dir}.\")\n",
    "\n",
    "            file_id = dataset_url.split(\"/\")[-2]\n",
    "            \n",
    "            if os.path.exists(zip_download_dir):\n",
    "                logger.info(\"Data already downloaded. Download stopped.\")\n",
    "            else:\n",
    "                prefix = \"https://drive.google.com/uc?/export=download&id=\"\n",
    "                gdown.download(url=prefix + file_id, output=zip_download_dir)\n",
    "\n",
    "                logger.info(\n",
    "                    f\"Downloaded data from {dataset_url} into file {zip_download_dir}\"\n",
    "                )\n",
    "            \n",
    "        except Exception as e:\n",
    "            raise e\n",
    "\n",
    "    def extract_zip_file(self):\n",
    "        \"\"\"Extracs the zip file into the data directory.\"\"\"\n",
    "        unzip_path = self.config.unzip_dir\n",
    "        os.makedirs(unzip_path, exist_ok=True)\n",
    "\n",
    "        with zipfile.ZipFile(self.config.local_data_file, \"r\") as zip_ref:\n",
    "            zip_ref.extractall(path=unzip_path)"
   ]
  },
  {
   "cell_type": "code",
   "execution_count": 15,
   "metadata": {},
   "outputs": [
    {
     "name": "stdout",
     "output_type": "stream",
     "text": [
      "[2024-05-09 22:55:30,298: INFO: common: YAML file: config/config.yaml loaded successfully!]\n",
      "[2024-05-09 22:55:30,299: INFO: common: YAML file: params.yaml loaded successfully!]\n",
      "[2024-05-09 22:55:30,300: INFO: common: Created directory at: artifacts]\n",
      "[2024-05-09 22:55:30,300: INFO: common: Created directory at: artifacts/data_ingestion]\n",
      "[2024-05-09 22:55:30,300: INFO: 1760217869: Downloading data from https://drive.google.com/file/d/1TDOWgd3n580eMn6nHfdR2FSIxRURHEk_/view?usp=sharing into file artifacts/data_ingestion/data.zip.]\n"
     ]
    },
    {
     "name": "stderr",
     "output_type": "stream",
     "text": [
      "Downloading...\n",
      "From (original): https://drive.google.com/uc?/export=download&id=1TDOWgd3n580eMn6nHfdR2FSIxRURHEk_\n",
      "From (redirected): https://drive.google.com/uc?%2Fexport=download&id=1TDOWgd3n580eMn6nHfdR2FSIxRURHEk_&confirm=t&uuid=d901eae0-eefd-4f0d-9140-fdd1d1f85166\n",
      "To: /home/filip/Documents/cancer-classification/artifacts/data_ingestion/data.zip\n",
      "100%|██████████| 124M/124M [00:06<00:00, 17.8MB/s] "
     ]
    },
    {
     "name": "stdout",
     "output_type": "stream",
     "text": [
      "[2024-05-09 22:55:38,940: INFO: 1760217869: Downloaded data from https://drive.google.com/file/d/1TDOWgd3n580eMn6nHfdR2FSIxRURHEk_/view?usp=sharing into file artifacts/data_ingestion/data.zip]\n"
     ]
    },
    {
     "name": "stderr",
     "output_type": "stream",
     "text": [
      "\n"
     ]
    },
    {
     "name": "stdout",
     "output_type": "stream",
     "text": [
      "artifacts/data_ingestion artifacts/data_ingestion/data.zip\n"
     ]
    }
   ],
   "source": [
    "try:\n",
    "    config_manager = ConfigurationManager()#config_filepath=Path(\"../config/config.yaml\"), params_filepath=Path(\"../params.yaml\"))\n",
    "    data_ingestion = DataIngestion(config_manager.get_data_ingestion_config())\n",
    "\n",
    "    # NOTE: Downaload is skipped as the dataset is downloaded from Kaggle.\n",
    "    data_ingestion.download_data()\n",
    "    data_ingestion.extract_zip_file()\n",
    "\n",
    "    # I don't know why the damn create_directories won't work; creates directory then says that there is a problem with the isinstance func inside ensure lib???\n",
    "    # error in question when using ensure_annotations: TypeError: isinstance() arg 2 must be a type, a tuple of types, or a union\n",
    "except Exception as e:\n",
    "    raise e"
   ]
  },
  {
   "cell_type": "code",
   "execution_count": 13,
   "metadata": {},
   "outputs": [],
   "source": [
    "# NOTE: (In)Sanity Check\n",
    "from ensure import ensure_annotations\n",
    "\n",
    "@ensure_annotations\n",
    "def test(x: list):\n",
    "    return\n",
    "\n",
    "test(['abc'])"
   ]
  }
 ],
 "metadata": {
  "kernelspec": {
   "display_name": ".venv",
   "language": "python",
   "name": "python3"
  },
  "language_info": {
   "codemirror_mode": {
    "name": "ipython",
    "version": 3
   },
   "file_extension": ".py",
   "mimetype": "text/x-python",
   "name": "python",
   "nbconvert_exporter": "python",
   "pygments_lexer": "ipython3",
   "version": "3.10.12"
  }
 },
 "nbformat": 4,
 "nbformat_minor": 2
}
