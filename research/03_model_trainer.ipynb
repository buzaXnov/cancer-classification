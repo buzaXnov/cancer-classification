{
 "cells": [
  {
   "cell_type": "code",
   "execution_count": 1,
   "metadata": {},
   "outputs": [
    {
     "data": {
      "text/plain": [
       "'/home/fbutic/Documents/cancer-classification/research'"
      ]
     },
     "execution_count": 1,
     "metadata": {},
     "output_type": "execute_result"
    }
   ],
   "source": [
    "%pwd"
   ]
  },
  {
   "cell_type": "code",
   "execution_count": 2,
   "metadata": {},
   "outputs": [],
   "source": [
    "import os\n",
    "os.chdir(\"..\")"
   ]
  },
  {
   "cell_type": "code",
   "execution_count": 3,
   "metadata": {},
   "outputs": [
    {
     "data": {
      "text/plain": [
       "'/home/fbutic/Documents/cancer-classification'"
      ]
     },
     "execution_count": 3,
     "metadata": {},
     "output_type": "execute_result"
    }
   ],
   "source": [
    "%pwd"
   ]
  },
  {
   "cell_type": "code",
   "execution_count": 4,
   "metadata": {},
   "outputs": [],
   "source": [
    "from pathlib import Path\n",
    "from dataclasses import dataclass\n",
    "\n",
    "\n",
    "@dataclass(frozen=True)\n",
    "class TrainingConfig:\n",
    "    root_dir: Path\n",
    "    trained_model_path: Path\n",
    "    updated_model_path: Path\n",
    "    training_data: Path\n",
    "    checkpoints_dir: Path\n",
    "    params_epochs: int\n",
    "    params_batch_size: int\n",
    "    params_augmentation: bool\n",
    "    params_image_size: list\n",
    "    params_learning_rate: float"
   ]
  },
  {
   "cell_type": "code",
   "execution_count": 5,
   "metadata": {},
   "outputs": [],
   "source": [
    "from cnnClassifier.constants import CONFIG_FILE_PATH, PARAMS_FILE_PATH\n",
    "from cnnClassifier.utils.common import read_yaml, create_directories, save_json\n",
    "import torch\n",
    "import torch.nn as nn\n",
    "import torchvision as torchvision\n",
    "from torchvision import transforms\n",
    "import torch.utils.data as data\n",
    "from tqdm import tqdm"
   ]
  },
  {
   "cell_type": "code",
   "execution_count": 6,
   "metadata": {},
   "outputs": [],
   "source": [
    "class ConfigurationManager:\n",
    "    def __init__(\n",
    "        self, config_filepath=CONFIG_FILE_PATH, params_filepath=PARAMS_FILE_PATH\n",
    "    ) -> None:\n",
    "        self.config = read_yaml(config_filepath)\n",
    "        self.params = read_yaml(params_filepath)\n",
    "\n",
    "        create_directories([self.config.artifacts_root])\n",
    "\n",
    "    def get_training_config(self) -> TrainingConfig:\n",
    "        training = self.config.training\n",
    "        prepare_base_model = self.config.prepare_base_model\n",
    "        params = self.params\n",
    "        training_data = os.path.join(self.config.data_ingestion.unzip_dir, \"Data\")\n",
    "        checkpoints_dir = os.path.join(training.checkpoints_dir)\n",
    "        create_directories([Path(training.root_dir), checkpoints_dir])\n",
    "\n",
    "        training_config = TrainingConfig(\n",
    "            root_dir=Path(training.root_dir),\n",
    "            trained_model_path=Path(training.trained_model_path),\n",
    "            updated_model_path=Path(prepare_base_model.updated_base_model_path),\n",
    "            training_data=Path(training_data),\n",
    "            checkpoints_dir=Path(checkpoints_dir),\n",
    "            params_image_size=params.IMAGE_SIZE,\n",
    "            params_augmentation=params.AUGMENTATION,\n",
    "            params_batch_size=params.BATCH_SIZE,\n",
    "            params_epochs=params.EPOCHS,\n",
    "            params_learning_rate=params.LEARNING_RATE\n",
    "        )\n",
    "\n",
    "        return training_config"
   ]
  },
  {
   "cell_type": "code",
   "execution_count": 7,
   "metadata": {},
   "outputs": [],
   "source": [
    "class Training:\n",
    "    def __init__(self, config: TrainingConfig):\n",
    "        self.config: TrainingConfig = config\n",
    "        self.device = torch.device(\"cuda:0\" if torch.cuda.is_available() else \"cpu\")\n",
    "        self.train_acc_history = []\n",
    "        self.train_loss_history = []\n",
    "        self.val_acc_history = []\n",
    "        self.val_loss_history = []\n",
    "        self.criterion = None\n",
    "        self.optimizer = None\n",
    "        self.scheduler = None\n",
    "        self.model = None\n",
    "\n",
    "    def get_base_model(self):\n",
    "        \"\"\"Download the base model.\"\"\"\n",
    "        self.model = torch.load(self.config.updated_model_path).to(self.device)\n",
    "        # NOTE: model.eval() for inference later on, not before training\n",
    "\n",
    "    def get_dataloaders(self):\n",
    "        \"\"\"Create dataloaders for the training loop with the appropriate augmentations.\"\"\"\n",
    "        # TRAIN_DATA_PATH = \"ImageFolder/images/train/\"; self.config.training_data\n",
    "        TRAIN_DATA_PATH = os.path.join(self.config.training_data, \"train\")\n",
    "        VAL_DATA_PATH = os.path.join(self.config.training_data, \"test\")\n",
    "        TEST_DATA_PATH = os.path.join(self.config.training_data, \"valid\")\n",
    "\n",
    "        # TODO: Convert images to grayscale? => Need to change the first conv layer to accpet 1 channel inputs instead of RGB inputs\n",
    "        train_transforms = transforms.Compose(\n",
    "            [\n",
    "                # transforms.CenterCrop(224),  # Center crop the image to 224x224\n",
    "                # transforms.RandomResizedCrop(\n",
    "                #     224\n",
    "                # ),  # Randomly crop and resize to 224x224\n",
    "                transforms.RandomRotation(5),  # Randomly rotate the image\n",
    "                transforms.RandomHorizontalFlip(),  # Randomly flip the image horizontally\n",
    "                transforms.RandomAffine(\n",
    "                    degrees=0, shear=0.0, translate=(0.1, 0.1)\n",
    "                ),  # Random affine transformation with shear\n",
    "                transforms.Resize(\n",
    "                    self.config.params_image_size[:-1]\n",
    "                ),  # Resize the image to 256x256\n",
    "                transforms.ToTensor(),  # Convert the image to a tensor\n",
    "                transforms.Normalize(\n",
    "                    mean=[0.485, 0.456, 0.406], std=[0.229, 0.224, 0.225]\n",
    "                ),  # Normalize the tensor for RGB input images\n",
    "            ]\n",
    "        )\n",
    "        # train_transforms = transforms.Compose(\n",
    "        #     [\n",
    "        #         transforms.AutoAugment(),\n",
    "        #         transforms.Resize(\n",
    "        #                     self.config.params_image_size[:-1]\n",
    "        #                 ),\n",
    "        #         transforms.ToTensor(),  # Convert the image to a tensor\n",
    "        #         transforms.Normalize(\n",
    "        #             mean=[0.485, 0.456, 0.406], std=[0.229, 0.224, 0.225]\n",
    "        #         ),  # Normalize the tensor for RGB input images\n",
    "        #     ]\n",
    "        # )\n",
    "\n",
    "        # Define the validation and testing transformations\n",
    "        val_test_transforms = transforms.Compose(\n",
    "            [\n",
    "                transforms.Resize(\n",
    "                    self.config.params_image_size[:-1]\n",
    "                ),  # Resize the image to 256x256\n",
    "                # transforms.CenterCrop(224),  # Center crop the image to 224x224\n",
    "                transforms.ToTensor(),  # Convert the image to a tensor\n",
    "                transforms.Normalize(\n",
    "                    mean=[0.485, 0.456, 0.406], std=[0.229, 0.224, 0.225]\n",
    "                ),  # Normalize the tensor for RGB input images\n",
    "            ]\n",
    "        )\n",
    "\n",
    "        if self.config.params_augmentation:\n",
    "            train_dataset = torchvision.datasets.ImageFolder(\n",
    "                root=TRAIN_DATA_PATH, transform=train_transforms\n",
    "            )\n",
    "        else:\n",
    "            train_dataset = torchvision.datasets.ImageFolder(\n",
    "                root=TRAIN_DATA_PATH, transform=val_test_transforms\n",
    "            )\n",
    "\n",
    "        # Datasets\n",
    "        val_dataset = torchvision.datasets.ImageFolder(\n",
    "            root=VAL_DATA_PATH, transform=val_test_transforms\n",
    "        )\n",
    "        test_dataset = torchvision.datasets.ImageFolder(\n",
    "            root=TEST_DATA_PATH, transform=val_test_transforms\n",
    "        )\n",
    "\n",
    "        # Dataloaders\n",
    "        BATCH_SIZE = self.config.params_batch_size\n",
    "        self.train_loader = data.DataLoader(\n",
    "            dataset=train_dataset, batch_size=BATCH_SIZE, shuffle=True\n",
    "        )\n",
    "        self.val_loader = data.DataLoader(\n",
    "            dataset=val_dataset, batch_size=BATCH_SIZE, shuffle=False\n",
    "        )\n",
    "        self.test_loader = data.DataLoader(\n",
    "            dataset=test_dataset, batch_size=BATCH_SIZE, shuffle=False\n",
    "        )\n",
    "\n",
    "    def save_checkpoint(self, epoch, optimizer, scheduler, val_accuracy, val_loss):\n",
    "        \"\"\"Save the model checkpoint.\"\"\"\n",
    "        state = {\n",
    "            \"epoch\": epoch,\n",
    "            \"model_state_dict\": self.model.state_dict(),\n",
    "            \"optimizer_state_dict\": optimizer.state_dict(),\n",
    "            \"scheduler_state_dict\": scheduler.state_dict(),\n",
    "            \"val_accuracy\": val_accuracy,\n",
    "            \"val_loss\": val_loss\n",
    "        }\n",
    "        checkpoint_path = os.path.join(\n",
    "            self.config.checkpoints_dir, f\"checkpoint_epoch_{epoch}.pth\"\n",
    "        )\n",
    "        torch.save(state, checkpoint_path)\n",
    "        print(\n",
    "            f\"Checkpoint saved at epoch {epoch} with validation accuracy: {val_accuracy}\"\n",
    "        )\n",
    "\n",
    "    def load_checkpoint(self, checkpoint_path):\n",
    "        \"\"\"Load a model checkpoint.\"\"\"\n",
    "        checkpoint = torch.load(checkpoint_path)\n",
    "        self.model.load_state_dict(checkpoint[\"model_state_dict\"])\n",
    "        self.model.to(self.device)\n",
    "        return (\n",
    "            checkpoint[\"epoch\"],\n",
    "            checkpoint[\"optimizer_state_dict\"],\n",
    "            checkpoint[\"scheduler_state_dict\"],\n",
    "            checkpoint[\"val_accuracy\"],\n",
    "            checkpoint[\"val_loss\"],\n",
    "        )\n",
    "\n",
    "    def train(self):\n",
    "        self.criterion = nn.CrossEntropyLoss()\n",
    "        self.optimizer = torch.optim.Adam(\n",
    "            self.model.parameters(),\n",
    "            lr=self.config.params_learning_rate,\n",
    "            weight_decay=5e-4,\n",
    "        )\n",
    "        # # self.optimizer = torch.optim.SGD(self.model.parameters(), lr=self.config.params_learning_rate, momentum=0.9)\n",
    "        # self.scheduler = torch.optim.lr_scheduler.MultiStepLR(\n",
    "        #     optimizer=self.optimizer, milestones=[10, 20, 30], gamma=0.1\n",
    "        # )  # (self.optimizer, step_size=7, gamma=0.5)\n",
    "\n",
    "        # TODO: try this one\n",
    "        self.scheduler = torch.optim.lr_scheduler.ReduceLROnPlateau(\n",
    "            self.optimizer, mode=\"min\", patience=10, factor=0.5\n",
    "        )\n",
    "\n",
    "        num_epochs = self.config.params_epochs\n",
    "\n",
    "        best_val_accuracy = 0.0\n",
    "        for epoch in tqdm(range(num_epochs), desc=\"Epochs\"):\n",
    "            self.model.train()\n",
    "            running_loss = 0.0\n",
    "            # For calculating train accuracy\n",
    "            total, correct = 0, 0\n",
    "\n",
    "            for inputs, labels in tqdm(self.train_loader, desc=\"Training Batches\"):\n",
    "                inputs, labels = inputs.to(self.device), labels.to(self.device)\n",
    "\n",
    "                outputs = self.model(inputs)\n",
    "                _, predicted = torch.max(outputs, 1)\n",
    "                total += labels.size(0)\n",
    "                correct += (predicted == labels).sum().item()\n",
    "                train_accuracy = 100 * correct / total\n",
    "\n",
    "                # zero the parameters gradients\n",
    "                self.optimizer.zero_grad()\n",
    "\n",
    "                outputs = self.model(inputs)\n",
    "                loss = self.criterion(outputs, labels)\n",
    "                loss.backward()\n",
    "                self.optimizer.step()\n",
    "\n",
    "                running_loss += loss.item()\n",
    "\n",
    "            batch_loss = running_loss / len(self.train_loader)\n",
    "            self.train_loss_history.append(batch_loss)\n",
    "            self.train_acc_history.append(train_accuracy)\n",
    "            print(\n",
    "                \"------------------------------------------------------------------------------------------\"\n",
    "            )\n",
    "            print(\n",
    "                f\"Epoch {epoch}/{num_epochs}, Loss: {batch_loss}, Train Accuracy: {train_accuracy}\"\n",
    "            )\n",
    "\n",
    "            # validation step\n",
    "            valid_accuracy, valid_loss = self.validate()\n",
    "\n",
    "            # if valid_accuracy > best_val_accuracy:\n",
    "            best_val_accuracy = valid_accuracy\n",
    "            \n",
    "            # Testing purposes only, save all checkpoints, load the model with the lowest val loss val\n",
    "            self.save_checkpoint(\n",
    "                epoch, self.optimizer, self.scheduler, best_val_accuracy, valid_loss\n",
    "            )\n",
    "\n",
    "            before_lr = self.optimizer.param_groups[0][\"lr\"]\n",
    "            self.scheduler.step(\n",
    "                valid_accuracy\n",
    "            )  # ReduceLROnPlateau scheduler needs a metric to watch\n",
    "            after_lr = self.optimizer.param_groups[0][\"lr\"]\n",
    "            if before_lr != after_lr:\n",
    "                print(\n",
    "                    \"Epoch %d: LR updated: %.4f -> %.4f\" % (epoch, before_lr, after_lr)\n",
    "                )\n",
    "\n",
    "        # save the model with the best val accuracy as best.pt for inference\n",
    "        # NOTE: is this really saving the model with the best vall accuracy or is it just saving the last model?\n",
    "        # Insert a load last checkpoint as those truly are params and weights with the best last updated val acc\n",
    "        torch.save(self.model, os.path.join(self.config.checkpoints_dir, \"best.pt\"))\n",
    "\n",
    "    def validate(self):\n",
    "        self.model.eval()\n",
    "        total, correct = 0, 0\n",
    "        running_loss = 0.0\n",
    "        with torch.no_grad():\n",
    "            for inputs, labels in tqdm(self.val_loader, desc=\"Validation Batches\"):\n",
    "                inputs, labels = inputs.to(self.device), labels.to(self.device)\n",
    "                outputs = self.model(inputs)\n",
    "                _, predicted = torch.max(outputs, 1)\n",
    "                total += labels.size(0)\n",
    "                correct += (predicted == labels).sum().item()\n",
    "\n",
    "                loss = self.criterion(outputs, labels)\n",
    "                running_loss += loss.item()\n",
    "\n",
    "        val_accuracy = 100 * correct / total\n",
    "\n",
    "        val_batch_loss = running_loss / len(self.val_loader)\n",
    "        self.val_loss_history.append(val_batch_loss)\n",
    "        self.val_acc_history.append(val_accuracy)\n",
    "        print(f\"Val loss: {val_batch_loss}, Validation Accuracy: {val_accuracy}%\")\n",
    "        return val_accuracy, val_batch_loss\n",
    "\n",
    "    def test(self):\n",
    "        self.model.eval()\n",
    "        total, correct = 0, 0\n",
    "        with torch.no_grad():\n",
    "            for inputs, labels in tqdm(self.test_loader):\n",
    "                inputs, labels = inputs.to(self.device), labels.to(self.device)\n",
    "                outputs = self.model(inputs)\n",
    "                _, predicted = torch.max(outputs, 1)\n",
    "                total += labels.size(0)\n",
    "                correct += (predicted == labels).sum().item()\n",
    "        test_accuracy = 100 * correct / total\n",
    "        print(f\"Test Accuracy: {test_accuracy}%\")"
   ]
  },
  {
   "cell_type": "markdown",
   "metadata": {},
   "source": [
    "## Test accuracies\n",
    "\n",
    "All of these are without data augmentations.\n",
    "\n",
    "SGD: StepScheduler step 7 gamma 0.5 => test acc 75%\n",
    "\n",
    "Adam: MultiStepSCheduler step 10 gamma 0.1 => Test Accuracy: 83.33333333333333% wit hAdam weight decy 5e-4 => test acc 83.333%\n",
    "\n",
    "Adam: LRReduceOnPlateu with patience=5, factor=0.5(gamma) => 83.33% test accuracy \n",
    "\n",
    "Lowering the batch size to 16 and setting epochs to 50; above is 32 batch size and epochs is 32  => test acc 81.9444%\n",
    "\n",
    "Lowering the batch size to 8 and setting epochs to 50 => test acc 82%\n",
    "\n",
    "With augmentation:\n",
    "Adam: LRReduceOnPlateu with patience=5, factor=0.5(gamma) => "
   ]
  },
  {
   "cell_type": "code",
   "execution_count": 8,
   "metadata": {},
   "outputs": [
    {
     "name": "stdout",
     "output_type": "stream",
     "text": [
      "[2024-05-22 19:23:16,849: INFO: common: YAML file: config/config.yaml loaded successfully!]\n",
      "[2024-05-22 19:23:16,851: INFO: common: YAML file: params.yaml loaded successfully!]\n",
      "[2024-05-22 19:23:16,852: INFO: common: Created directory at: artifacts]\n",
      "[2024-05-22 19:23:16,852: INFO: common: Created directory at: artifacts/training]\n",
      "[2024-05-22 19:23:16,853: INFO: common: Created directory at: artifacts/training/checkpoints]\n"
     ]
    },
    {
     "name": "stderr",
     "output_type": "stream",
     "text": [
      "Training Batches: 100%|██████████| 77/77 [00:05<00:00, 14.12it/s]\n"
     ]
    },
    {
     "name": "stdout",
     "output_type": "stream",
     "text": [
      "------------------------------------------------------------------------------------------\n",
      "Epoch 0/50, Loss: 6.212625702990479, Train Accuracy: 51.876019575856446\n"
     ]
    },
    {
     "name": "stderr",
     "output_type": "stream",
     "text": [
      "Validation Batches: 100%|██████████| 40/40 [00:02<00:00, 17.30it/s]\n",
      "Epochs:   2%|▏         | 1/50 [00:07<06:22,  7.81s/it]"
     ]
    },
    {
     "name": "stdout",
     "output_type": "stream",
     "text": [
      "Val loss: 6.343982690510666, Validation Accuracy: 55.55555555555556%\n",
      "Checkpoint saved at epoch 0 with validation accuracy: 55.55555555555556\n"
     ]
    },
    {
     "name": "stderr",
     "output_type": "stream",
     "text": [
      "Training Batches: 100%|██████████| 77/77 [00:05<00:00, 13.87it/s]\n"
     ]
    },
    {
     "name": "stdout",
     "output_type": "stream",
     "text": [
      "------------------------------------------------------------------------------------------\n",
      "Epoch 1/50, Loss: 7.28630972605247, Train Accuracy: 60.848287112561174\n"
     ]
    },
    {
     "name": "stderr",
     "output_type": "stream",
     "text": [
      "Validation Batches: 100%|██████████| 40/40 [00:02<00:00, 15.71it/s]\n",
      "Epochs:   4%|▍         | 2/50 [00:15<06:24,  8.00s/it]"
     ]
    },
    {
     "name": "stdout",
     "output_type": "stream",
     "text": [
      "Val loss: 4.607385989850218, Validation Accuracy: 63.17460317460318%\n",
      "Checkpoint saved at epoch 1 with validation accuracy: 63.17460317460318\n"
     ]
    },
    {
     "name": "stderr",
     "output_type": "stream",
     "text": [
      "Training Batches: 100%|██████████| 77/77 [00:05<00:00, 15.30it/s]\n"
     ]
    },
    {
     "name": "stdout",
     "output_type": "stream",
     "text": [
      "------------------------------------------------------------------------------------------\n",
      "Epoch 2/50, Loss: 5.783425778413627, Train Accuracy: 65.74225122349102\n"
     ]
    },
    {
     "name": "stderr",
     "output_type": "stream",
     "text": [
      "Validation Batches: 100%|██████████| 40/40 [00:02<00:00, 17.33it/s]\n",
      "Epochs:   6%|▌         | 3/50 [00:23<06:02,  7.72s/it]"
     ]
    },
    {
     "name": "stdout",
     "output_type": "stream",
     "text": [
      "Val loss: 5.030127891059965, Validation Accuracy: 56.507936507936506%\n",
      "Checkpoint saved at epoch 2 with validation accuracy: 56.507936507936506\n"
     ]
    },
    {
     "name": "stderr",
     "output_type": "stream",
     "text": [
      "Training Batches: 100%|██████████| 77/77 [00:05<00:00, 13.65it/s]\n"
     ]
    },
    {
     "name": "stdout",
     "output_type": "stream",
     "text": [
      "------------------------------------------------------------------------------------------\n",
      "Epoch 3/50, Loss: 5.598580657529823, Train Accuracy: 67.53670473083197\n"
     ]
    },
    {
     "name": "stderr",
     "output_type": "stream",
     "text": [
      "Validation Batches: 100%|██████████| 40/40 [00:02<00:00, 17.83it/s]\n",
      "Epochs:   8%|▊         | 4/50 [00:31<05:58,  7.80s/it]"
     ]
    },
    {
     "name": "stdout",
     "output_type": "stream",
     "text": [
      "Val loss: 4.365472675068304, Validation Accuracy: 66.66666666666667%\n",
      "Checkpoint saved at epoch 3 with validation accuracy: 66.66666666666667\n"
     ]
    },
    {
     "name": "stderr",
     "output_type": "stream",
     "text": [
      "Training Batches: 100%|██████████| 77/77 [00:05<00:00, 14.54it/s]\n"
     ]
    },
    {
     "name": "stdout",
     "output_type": "stream",
     "text": [
      "------------------------------------------------------------------------------------------\n",
      "Epoch 4/50, Loss: 4.834777042915283, Train Accuracy: 69.49429037520392\n"
     ]
    },
    {
     "name": "stderr",
     "output_type": "stream",
     "text": [
      "Validation Batches: 100%|██████████| 40/40 [00:02<00:00, 17.70it/s]\n",
      "Epochs:  10%|█         | 5/50 [00:38<05:47,  7.73s/it]"
     ]
    },
    {
     "name": "stdout",
     "output_type": "stream",
     "text": [
      "Val loss: 3.607589627947891, Validation Accuracy: 72.06349206349206%\n",
      "Checkpoint saved at epoch 4 with validation accuracy: 72.06349206349206\n"
     ]
    },
    {
     "name": "stderr",
     "output_type": "stream",
     "text": [
      "Training Batches: 100%|██████████| 77/77 [00:05<00:00, 13.35it/s]\n"
     ]
    },
    {
     "name": "stdout",
     "output_type": "stream",
     "text": [
      "------------------------------------------------------------------------------------------\n",
      "Epoch 5/50, Loss: 5.432024213927933, Train Accuracy: 69.16802610114192\n"
     ]
    },
    {
     "name": "stderr",
     "output_type": "stream",
     "text": [
      "Validation Batches: 100%|██████████| 40/40 [00:02<00:00, 19.08it/s]\n",
      "Epochs:  12%|█▏        | 6/50 [00:46<05:42,  7.78s/it]"
     ]
    },
    {
     "name": "stdout",
     "output_type": "stream",
     "text": [
      "Val loss: 3.838698904835695, Validation Accuracy: 69.84126984126983%\n",
      "Checkpoint saved at epoch 5 with validation accuracy: 69.84126984126983\n"
     ]
    },
    {
     "name": "stderr",
     "output_type": "stream",
     "text": [
      "Training Batches: 100%|██████████| 77/77 [00:05<00:00, 13.48it/s]\n"
     ]
    },
    {
     "name": "stdout",
     "output_type": "stream",
     "text": [
      "------------------------------------------------------------------------------------------\n",
      "Epoch 6/50, Loss: 5.0816589726727415, Train Accuracy: 70.63621533442088\n"
     ]
    },
    {
     "name": "stderr",
     "output_type": "stream",
     "text": [
      "Validation Batches: 100%|██████████| 40/40 [00:02<00:00, 14.39it/s]\n",
      "Epochs:  14%|█▍        | 7/50 [00:55<05:45,  8.03s/it]"
     ]
    },
    {
     "name": "stdout",
     "output_type": "stream",
     "text": [
      "Val loss: 6.036416334798558, Validation Accuracy: 64.76190476190476%\n",
      "Checkpoint saved at epoch 6 with validation accuracy: 64.76190476190476\n"
     ]
    },
    {
     "name": "stderr",
     "output_type": "stream",
     "text": [
      "Training Batches: 100%|██████████| 77/77 [00:05<00:00, 13.89it/s]\n"
     ]
    },
    {
     "name": "stdout",
     "output_type": "stream",
     "text": [
      "------------------------------------------------------------------------------------------\n",
      "Epoch 7/50, Loss: 5.4289257826356145, Train Accuracy: 69.49429037520392\n"
     ]
    },
    {
     "name": "stderr",
     "output_type": "stream",
     "text": [
      "Validation Batches: 100%|██████████| 40/40 [00:02<00:00, 19.93it/s]\n",
      "Epochs:  16%|█▌        | 8/50 [01:02<05:31,  7.89s/it]"
     ]
    },
    {
     "name": "stdout",
     "output_type": "stream",
     "text": [
      "Val loss: 6.7765162859444645, Validation Accuracy: 65.07936507936508%\n",
      "Checkpoint saved at epoch 7 with validation accuracy: 65.07936507936508\n"
     ]
    },
    {
     "name": "stderr",
     "output_type": "stream",
     "text": [
      "Training Batches: 100%|██████████| 77/77 [00:05<00:00, 13.90it/s]\n"
     ]
    },
    {
     "name": "stdout",
     "output_type": "stream",
     "text": [
      "------------------------------------------------------------------------------------------\n",
      "Epoch 8/50, Loss: 5.570579818921884, Train Accuracy: 71.12561174551387\n"
     ]
    },
    {
     "name": "stderr",
     "output_type": "stream",
     "text": [
      "Validation Batches: 100%|██████████| 40/40 [00:02<00:00, 15.85it/s]\n",
      "Epochs:  18%|█▊        | 9/50 [01:10<05:26,  7.95s/it]"
     ]
    },
    {
     "name": "stdout",
     "output_type": "stream",
     "text": [
      "Val loss: 5.683727782643837, Validation Accuracy: 64.12698412698413%\n",
      "Checkpoint saved at epoch 8 with validation accuracy: 64.12698412698413\n"
     ]
    },
    {
     "name": "stderr",
     "output_type": "stream",
     "text": [
      "Training Batches: 100%|██████████| 77/77 [00:05<00:00, 13.75it/s]\n"
     ]
    },
    {
     "name": "stdout",
     "output_type": "stream",
     "text": [
      "------------------------------------------------------------------------------------------\n",
      "Epoch 9/50, Loss: 5.5326512865654145, Train Accuracy: 69.9836867862969\n"
     ]
    },
    {
     "name": "stderr",
     "output_type": "stream",
     "text": [
      "Validation Batches: 100%|██████████| 40/40 [00:02<00:00, 17.23it/s]\n",
      "Epochs:  20%|██        | 10/50 [01:18<05:18,  7.96s/it]"
     ]
    },
    {
     "name": "stdout",
     "output_type": "stream",
     "text": [
      "Val loss: 5.745318667969696, Validation Accuracy: 59.682539682539684%\n",
      "Checkpoint saved at epoch 9 with validation accuracy: 59.682539682539684\n"
     ]
    },
    {
     "name": "stderr",
     "output_type": "stream",
     "text": [
      "Training Batches: 100%|██████████| 77/77 [00:06<00:00, 12.15it/s]\n"
     ]
    },
    {
     "name": "stdout",
     "output_type": "stream",
     "text": [
      "------------------------------------------------------------------------------------------\n",
      "Epoch 10/50, Loss: 5.204694130760315, Train Accuracy: 69.49429037520392\n"
     ]
    },
    {
     "name": "stderr",
     "output_type": "stream",
     "text": [
      "Validation Batches: 100%|██████████| 40/40 [00:02<00:00, 16.24it/s]\n",
      "Epochs:  22%|██▏       | 11/50 [01:27<05:20,  8.23s/it]"
     ]
    },
    {
     "name": "stdout",
     "output_type": "stream",
     "text": [
      "Val loss: 8.473943349718997, Validation Accuracy: 56.19047619047619%\n",
      "Checkpoint saved at epoch 10 with validation accuracy: 56.19047619047619\n"
     ]
    },
    {
     "name": "stderr",
     "output_type": "stream",
     "text": [
      "Training Batches: 100%|██████████| 77/77 [00:05<00:00, 13.30it/s]\n"
     ]
    },
    {
     "name": "stdout",
     "output_type": "stream",
     "text": [
      "------------------------------------------------------------------------------------------\n",
      "Epoch 11/50, Loss: 5.695846718420079, Train Accuracy: 70.96247960848287\n"
     ]
    },
    {
     "name": "stderr",
     "output_type": "stream",
     "text": [
      "Validation Batches: 100%|██████████| 40/40 [00:02<00:00, 15.78it/s]\n",
      "Epochs:  24%|██▍       | 12/50 [01:36<05:14,  8.27s/it]"
     ]
    },
    {
     "name": "stdout",
     "output_type": "stream",
     "text": [
      "Val loss: 3.970241990509385, Validation Accuracy: 66.98412698412699%\n",
      "Checkpoint saved at epoch 11 with validation accuracy: 66.98412698412699\n",
      "Epoch 11: LR updated: 0.1000 -> 0.0500\n"
     ]
    },
    {
     "name": "stderr",
     "output_type": "stream",
     "text": [
      "Training Batches: 100%|██████████| 77/77 [00:05<00:00, 13.15it/s]\n"
     ]
    },
    {
     "name": "stdout",
     "output_type": "stream",
     "text": [
      "------------------------------------------------------------------------------------------\n",
      "Epoch 12/50, Loss: 4.7996755232666946, Train Accuracy: 72.10440456769983\n"
     ]
    },
    {
     "name": "stderr",
     "output_type": "stream",
     "text": [
      "Validation Batches: 100%|██████████| 40/40 [00:03<00:00, 11.80it/s]\n",
      "Epochs:  26%|██▌       | 13/50 [01:45<05:17,  8.58s/it]"
     ]
    },
    {
     "name": "stdout",
     "output_type": "stream",
     "text": [
      "Val loss: 4.54770525265776, Validation Accuracy: 71.11111111111111%\n",
      "Checkpoint saved at epoch 12 with validation accuracy: 71.11111111111111\n"
     ]
    },
    {
     "name": "stderr",
     "output_type": "stream",
     "text": [
      "Training Batches: 100%|██████████| 77/77 [00:06<00:00, 12.73it/s]\n"
     ]
    },
    {
     "name": "stdout",
     "output_type": "stream",
     "text": [
      "------------------------------------------------------------------------------------------\n",
      "Epoch 13/50, Loss: 3.666183854339759, Train Accuracy: 72.59380097879283\n"
     ]
    },
    {
     "name": "stderr",
     "output_type": "stream",
     "text": [
      "Validation Batches: 100%|██████████| 40/40 [00:02<00:00, 14.24it/s]\n",
      "Epochs:  28%|██▊       | 14/50 [01:54<05:12,  8.68s/it]"
     ]
    },
    {
     "name": "stdout",
     "output_type": "stream",
     "text": [
      "Val loss: 6.391736870186184, Validation Accuracy: 66.03174603174604%\n",
      "Checkpoint saved at epoch 13 with validation accuracy: 66.03174603174604\n"
     ]
    },
    {
     "name": "stderr",
     "output_type": "stream",
     "text": [
      "Training Batches: 100%|██████████| 77/77 [00:06<00:00, 11.89it/s]\n"
     ]
    },
    {
     "name": "stdout",
     "output_type": "stream",
     "text": [
      "------------------------------------------------------------------------------------------\n",
      "Epoch 14/50, Loss: 3.7288264107398876, Train Accuracy: 73.89885807504078\n"
     ]
    },
    {
     "name": "stderr",
     "output_type": "stream",
     "text": [
      "Validation Batches: 100%|██████████| 40/40 [00:03<00:00, 10.88it/s]\n",
      "Epochs:  30%|███       | 15/50 [02:04<05:19,  9.14s/it]"
     ]
    },
    {
     "name": "stdout",
     "output_type": "stream",
     "text": [
      "Val loss: 4.599337367402936, Validation Accuracy: 65.39682539682539%\n",
      "Checkpoint saved at epoch 14 with validation accuracy: 65.39682539682539\n"
     ]
    },
    {
     "name": "stderr",
     "output_type": "stream",
     "text": [
      "Training Batches: 100%|██████████| 77/77 [00:06<00:00, 11.83it/s]\n"
     ]
    },
    {
     "name": "stdout",
     "output_type": "stream",
     "text": [
      "------------------------------------------------------------------------------------------\n",
      "Epoch 15/50, Loss: 3.572567437357594, Train Accuracy: 75.53017944535074\n"
     ]
    },
    {
     "name": "stderr",
     "output_type": "stream",
     "text": [
      "Validation Batches: 100%|██████████| 40/40 [00:02<00:00, 17.46it/s]\n",
      "Epochs:  32%|███▏      | 16/50 [02:13<05:07,  9.05s/it]"
     ]
    },
    {
     "name": "stdout",
     "output_type": "stream",
     "text": [
      "Val loss: 5.111331038241349, Validation Accuracy: 62.53968253968254%\n",
      "Checkpoint saved at epoch 15 with validation accuracy: 62.53968253968254\n"
     ]
    },
    {
     "name": "stderr",
     "output_type": "stream",
     "text": [
      "Training Batches: 100%|██████████| 77/77 [00:06<00:00, 12.72it/s]\n"
     ]
    },
    {
     "name": "stdout",
     "output_type": "stream",
     "text": [
      "------------------------------------------------------------------------------------------\n",
      "Epoch 16/50, Loss: 3.2028287846140406, Train Accuracy: 74.71451876019576\n"
     ]
    },
    {
     "name": "stderr",
     "output_type": "stream",
     "text": [
      "Validation Batches: 100%|██████████| 40/40 [00:02<00:00, 17.85it/s]\n",
      "Epochs:  34%|███▍      | 17/50 [02:21<04:51,  8.84s/it]"
     ]
    },
    {
     "name": "stdout",
     "output_type": "stream",
     "text": [
      "Val loss: 4.441555661056188, Validation Accuracy: 66.34920634920636%\n",
      "Checkpoint saved at epoch 16 with validation accuracy: 66.34920634920636\n"
     ]
    },
    {
     "name": "stderr",
     "output_type": "stream",
     "text": [
      "Training Batches: 100%|██████████| 77/77 [00:05<00:00, 13.03it/s]\n"
     ]
    },
    {
     "name": "stdout",
     "output_type": "stream",
     "text": [
      "------------------------------------------------------------------------------------------\n",
      "Epoch 17/50, Loss: 2.9212757116722248, Train Accuracy: 75.53017944535074\n"
     ]
    },
    {
     "name": "stderr",
     "output_type": "stream",
     "text": [
      "Validation Batches: 100%|██████████| 40/40 [00:02<00:00, 13.88it/s]\n",
      "Epochs:  36%|███▌      | 18/50 [02:30<04:42,  8.84s/it]"
     ]
    },
    {
     "name": "stdout",
     "output_type": "stream",
     "text": [
      "Val loss: 4.098340156787162, Validation Accuracy: 69.2063492063492%\n",
      "Checkpoint saved at epoch 17 with validation accuracy: 69.2063492063492\n"
     ]
    },
    {
     "name": "stderr",
     "output_type": "stream",
     "text": [
      "Training Batches: 100%|██████████| 77/77 [00:06<00:00, 11.52it/s]\n"
     ]
    },
    {
     "name": "stdout",
     "output_type": "stream",
     "text": [
      "------------------------------------------------------------------------------------------\n",
      "Epoch 18/50, Loss: 3.5978606500168286, Train Accuracy: 73.89885807504078\n"
     ]
    },
    {
     "name": "stderr",
     "output_type": "stream",
     "text": [
      "Validation Batches: 100%|██████████| 40/40 [00:03<00:00, 12.88it/s]\n",
      "Epochs:  38%|███▊      | 19/50 [02:40<04:43,  9.14s/it]"
     ]
    },
    {
     "name": "stdout",
     "output_type": "stream",
     "text": [
      "Val loss: 4.180760175338946, Validation Accuracy: 66.34920634920636%\n",
      "Checkpoint saved at epoch 18 with validation accuracy: 66.34920634920636\n"
     ]
    },
    {
     "name": "stderr",
     "output_type": "stream",
     "text": [
      "Training Batches: 100%|██████████| 77/77 [00:06<00:00, 11.12it/s]\n"
     ]
    },
    {
     "name": "stdout",
     "output_type": "stream",
     "text": [
      "------------------------------------------------------------------------------------------\n",
      "Epoch 19/50, Loss: 4.418751001219577, Train Accuracy: 76.3458401305057\n"
     ]
    },
    {
     "name": "stderr",
     "output_type": "stream",
     "text": [
      "Validation Batches: 100%|██████████| 40/40 [00:02<00:00, 15.73it/s]\n",
      "Epochs:  40%|████      | 20/50 [02:49<04:37,  9.26s/it]"
     ]
    },
    {
     "name": "stdout",
     "output_type": "stream",
     "text": [
      "Val loss: 6.302126607862236, Validation Accuracy: 64.12698412698413%\n",
      "Checkpoint saved at epoch 19 with validation accuracy: 64.12698412698413\n"
     ]
    },
    {
     "name": "stderr",
     "output_type": "stream",
     "text": [
      "Training Batches: 100%|██████████| 77/77 [00:06<00:00, 12.17it/s]\n"
     ]
    },
    {
     "name": "stdout",
     "output_type": "stream",
     "text": [
      "------------------------------------------------------------------------------------------\n",
      "Epoch 20/50, Loss: 3.6224100229982317, Train Accuracy: 73.5725938009788\n"
     ]
    },
    {
     "name": "stderr",
     "output_type": "stream",
     "text": [
      "Validation Batches: 100%|██████████| 40/40 [00:02<00:00, 14.28it/s]\n",
      "Epochs:  42%|████▏     | 21/50 [02:59<04:27,  9.23s/it]"
     ]
    },
    {
     "name": "stdout",
     "output_type": "stream",
     "text": [
      "Val loss: 3.01271199003022, Validation Accuracy: 73.65079365079364%\n",
      "Checkpoint saved at epoch 20 with validation accuracy: 73.65079365079364\n"
     ]
    },
    {
     "name": "stderr",
     "output_type": "stream",
     "text": [
      "Training Batches: 100%|██████████| 77/77 [00:06<00:00, 11.86it/s]\n"
     ]
    },
    {
     "name": "stdout",
     "output_type": "stream",
     "text": [
      "------------------------------------------------------------------------------------------\n",
      "Epoch 21/50, Loss: 3.341532463319324, Train Accuracy: 74.06199021207178\n"
     ]
    },
    {
     "name": "stderr",
     "output_type": "stream",
     "text": [
      "Validation Batches: 100%|██████████| 40/40 [00:02<00:00, 15.66it/s]\n",
      "Epochs:  44%|████▍     | 22/50 [03:08<04:17,  9.19s/it]"
     ]
    },
    {
     "name": "stdout",
     "output_type": "stream",
     "text": [
      "Val loss: 4.520722655169993, Validation Accuracy: 64.44444444444444%\n",
      "Checkpoint saved at epoch 21 with validation accuracy: 64.44444444444444\n"
     ]
    },
    {
     "name": "stderr",
     "output_type": "stream",
     "text": [
      "Training Batches: 100%|██████████| 77/77 [00:06<00:00, 12.57it/s]\n"
     ]
    },
    {
     "name": "stdout",
     "output_type": "stream",
     "text": [
      "------------------------------------------------------------------------------------------\n",
      "Epoch 22/50, Loss: 3.1292947699563793, Train Accuracy: 72.43066884176183\n"
     ]
    },
    {
     "name": "stderr",
     "output_type": "stream",
     "text": [
      "Validation Batches: 100%|██████████| 40/40 [00:02<00:00, 16.01it/s]\n",
      "Epochs:  46%|████▌     | 23/50 [03:16<04:03,  9.03s/it]"
     ]
    },
    {
     "name": "stdout",
     "output_type": "stream",
     "text": [
      "Val loss: 4.212584818061441, Validation Accuracy: 66.98412698412699%\n",
      "Checkpoint saved at epoch 22 with validation accuracy: 66.98412698412699\n",
      "Epoch 22: LR updated: 0.0500 -> 0.0250\n"
     ]
    },
    {
     "name": "stderr",
     "output_type": "stream",
     "text": [
      "Training Batches: 100%|██████████| 77/77 [00:05<00:00, 13.54it/s]\n"
     ]
    },
    {
     "name": "stdout",
     "output_type": "stream",
     "text": [
      "------------------------------------------------------------------------------------------\n",
      "Epoch 23/50, Loss: 2.5339157610329233, Train Accuracy: 79.9347471451876\n"
     ]
    },
    {
     "name": "stderr",
     "output_type": "stream",
     "text": [
      "Validation Batches: 100%|██████████| 40/40 [00:03<00:00, 13.01it/s]\n",
      "Epochs:  48%|████▊     | 24/50 [03:25<03:53,  8.96s/it]"
     ]
    },
    {
     "name": "stdout",
     "output_type": "stream",
     "text": [
      "Val loss: 3.0209814368930097, Validation Accuracy: 72.38095238095238%\n",
      "Checkpoint saved at epoch 23 with validation accuracy: 72.38095238095238\n"
     ]
    },
    {
     "name": "stderr",
     "output_type": "stream",
     "text": [
      "Training Batches: 100%|██████████| 77/77 [00:06<00:00, 12.64it/s]\n"
     ]
    },
    {
     "name": "stdout",
     "output_type": "stream",
     "text": [
      "------------------------------------------------------------------------------------------\n",
      "Epoch 24/50, Loss: 2.2929813907233783, Train Accuracy: 76.99836867862969\n"
     ]
    },
    {
     "name": "stderr",
     "output_type": "stream",
     "text": [
      "Validation Batches: 100%|██████████| 40/40 [00:03<00:00, 12.22it/s]\n",
      "Epochs:  50%|█████     | 25/50 [03:35<03:47,  9.10s/it]"
     ]
    },
    {
     "name": "stdout",
     "output_type": "stream",
     "text": [
      "Val loss: 4.162926778178234, Validation Accuracy: 63.492063492063494%\n",
      "Checkpoint saved at epoch 24 with validation accuracy: 63.492063492063494\n"
     ]
    },
    {
     "name": "stderr",
     "output_type": "stream",
     "text": [
      "Training Batches: 100%|██████████| 77/77 [00:06<00:00, 11.32it/s]\n"
     ]
    },
    {
     "name": "stdout",
     "output_type": "stream",
     "text": [
      "------------------------------------------------------------------------------------------\n",
      "Epoch 25/50, Loss: 1.9655119620386818, Train Accuracy: 78.14029363784665\n"
     ]
    },
    {
     "name": "stderr",
     "output_type": "stream",
     "text": [
      "Validation Batches: 100%|██████████| 40/40 [00:02<00:00, 13.64it/s]\n",
      "Epochs:  52%|█████▏    | 26/50 [03:44<03:43,  9.30s/it]"
     ]
    },
    {
     "name": "stdout",
     "output_type": "stream",
     "text": [
      "Val loss: 3.3941786356039527, Validation Accuracy: 69.52380952380952%\n",
      "Checkpoint saved at epoch 25 with validation accuracy: 69.52380952380952\n"
     ]
    },
    {
     "name": "stderr",
     "output_type": "stream",
     "text": [
      "Training Batches: 100%|██████████| 77/77 [00:06<00:00, 12.05it/s]\n"
     ]
    },
    {
     "name": "stdout",
     "output_type": "stream",
     "text": [
      "------------------------------------------------------------------------------------------\n",
      "Epoch 26/50, Loss: 2.2017371935691297, Train Accuracy: 76.5089722675367\n"
     ]
    },
    {
     "name": "stderr",
     "output_type": "stream",
     "text": [
      "Validation Batches: 100%|██████████| 40/40 [00:03<00:00, 11.50it/s]\n",
      "Epochs:  54%|█████▍    | 27/50 [03:54<03:38,  9.50s/it]"
     ]
    },
    {
     "name": "stdout",
     "output_type": "stream",
     "text": [
      "Val loss: 3.369170901639245, Validation Accuracy: 72.06349206349206%\n",
      "Checkpoint saved at epoch 26 with validation accuracy: 72.06349206349206\n"
     ]
    },
    {
     "name": "stderr",
     "output_type": "stream",
     "text": [
      "Training Batches: 100%|██████████| 77/77 [00:07<00:00, 10.57it/s]\n"
     ]
    },
    {
     "name": "stdout",
     "output_type": "stream",
     "text": [
      "------------------------------------------------------------------------------------------\n",
      "Epoch 27/50, Loss: 2.689669671823352, Train Accuracy: 73.2463295269168\n"
     ]
    },
    {
     "name": "stderr",
     "output_type": "stream",
     "text": [
      "Validation Batches: 100%|██████████| 40/40 [00:02<00:00, 14.59it/s]\n",
      "Epochs:  56%|█████▌    | 28/50 [04:04<03:32,  9.67s/it]"
     ]
    },
    {
     "name": "stdout",
     "output_type": "stream",
     "text": [
      "Val loss: 4.08451383996653, Validation Accuracy: 63.80952380952381%\n",
      "Checkpoint saved at epoch 27 with validation accuracy: 63.80952380952381\n"
     ]
    },
    {
     "name": "stderr",
     "output_type": "stream",
     "text": [
      "Training Batches: 100%|██████████| 77/77 [00:06<00:00, 11.71it/s]\n"
     ]
    },
    {
     "name": "stdout",
     "output_type": "stream",
     "text": [
      "------------------------------------------------------------------------------------------\n",
      "Epoch 28/50, Loss: 2.2345025992380654, Train Accuracy: 78.14029363784665\n"
     ]
    },
    {
     "name": "stderr",
     "output_type": "stream",
     "text": [
      "Validation Batches: 100%|██████████| 40/40 [00:02<00:00, 16.90it/s]\n",
      "Epochs:  58%|█████▊    | 29/50 [04:13<03:18,  9.46s/it]"
     ]
    },
    {
     "name": "stdout",
     "output_type": "stream",
     "text": [
      "Val loss: 3.261428362035076, Validation Accuracy: 68.88888888888889%\n",
      "Checkpoint saved at epoch 28 with validation accuracy: 68.88888888888889\n"
     ]
    },
    {
     "name": "stderr",
     "output_type": "stream",
     "text": [
      "Training Batches: 100%|██████████| 77/77 [00:07<00:00,  9.83it/s]\n"
     ]
    },
    {
     "name": "stdout",
     "output_type": "stream",
     "text": [
      "------------------------------------------------------------------------------------------\n",
      "Epoch 29/50, Loss: 2.0994801969989734, Train Accuracy: 76.01957585644372\n"
     ]
    },
    {
     "name": "stderr",
     "output_type": "stream",
     "text": [
      "Validation Batches: 100%|██████████| 40/40 [00:03<00:00, 10.59it/s]\n",
      "Epochs:  60%|██████    | 30/50 [04:25<03:22, 10.12s/it]"
     ]
    },
    {
     "name": "stdout",
     "output_type": "stream",
     "text": [
      "Val loss: 2.471469943503325, Validation Accuracy: 76.5079365079365%\n",
      "Checkpoint saved at epoch 29 with validation accuracy: 76.5079365079365\n"
     ]
    },
    {
     "name": "stderr",
     "output_type": "stream",
     "text": [
      "Training Batches: 100%|██████████| 77/77 [00:07<00:00, 10.70it/s]\n"
     ]
    },
    {
     "name": "stdout",
     "output_type": "stream",
     "text": [
      "------------------------------------------------------------------------------------------\n",
      "Epoch 30/50, Loss: 1.8680711008431414, Train Accuracy: 80.91353996737357\n"
     ]
    },
    {
     "name": "stderr",
     "output_type": "stream",
     "text": [
      "Validation Batches: 100%|██████████| 40/40 [00:03<00:00, 13.08it/s]\n",
      "Epochs:  62%|██████▏   | 31/50 [04:35<03:13, 10.19s/it]"
     ]
    },
    {
     "name": "stdout",
     "output_type": "stream",
     "text": [
      "Val loss: 3.0748084431266762, Validation Accuracy: 70.47619047619048%\n",
      "Checkpoint saved at epoch 30 with validation accuracy: 70.47619047619048\n"
     ]
    },
    {
     "name": "stderr",
     "output_type": "stream",
     "text": [
      "Training Batches: 100%|██████████| 77/77 [00:06<00:00, 11.98it/s]\n"
     ]
    },
    {
     "name": "stdout",
     "output_type": "stream",
     "text": [
      "------------------------------------------------------------------------------------------\n",
      "Epoch 31/50, Loss: 2.3076658174509896, Train Accuracy: 75.36704730831974\n"
     ]
    },
    {
     "name": "stderr",
     "output_type": "stream",
     "text": [
      "Validation Batches: 100%|██████████| 40/40 [00:02<00:00, 13.45it/s]\n",
      "Epochs:  64%|██████▍   | 32/50 [04:45<02:59,  9.97s/it]"
     ]
    },
    {
     "name": "stdout",
     "output_type": "stream",
     "text": [
      "Val loss: 2.86614590472891, Validation Accuracy: 73.33333333333333%\n",
      "Checkpoint saved at epoch 31 with validation accuracy: 73.33333333333333\n"
     ]
    },
    {
     "name": "stderr",
     "output_type": "stream",
     "text": [
      "Training Batches: 100%|██████████| 77/77 [00:06<00:00, 11.97it/s]\n"
     ]
    },
    {
     "name": "stdout",
     "output_type": "stream",
     "text": [
      "------------------------------------------------------------------------------------------\n",
      "Epoch 32/50, Loss: 1.4874628317694176, Train Accuracy: 77.65089722675367\n"
     ]
    },
    {
     "name": "stderr",
     "output_type": "stream",
     "text": [
      "Validation Batches: 100%|██████████| 40/40 [00:02<00:00, 13.89it/s]\n",
      "Epochs:  66%|██████▌   | 33/50 [04:54<02:46,  9.78s/it]"
     ]
    },
    {
     "name": "stdout",
     "output_type": "stream",
     "text": [
      "Val loss: 2.747318400489166, Validation Accuracy: 67.3015873015873%\n",
      "Checkpoint saved at epoch 32 with validation accuracy: 67.3015873015873\n"
     ]
    },
    {
     "name": "stderr",
     "output_type": "stream",
     "text": [
      "Training Batches: 100%|██████████| 77/77 [00:07<00:00, 10.81it/s]\n"
     ]
    },
    {
     "name": "stdout",
     "output_type": "stream",
     "text": [
      "------------------------------------------------------------------------------------------\n",
      "Epoch 33/50, Loss: 2.0627382600305517, Train Accuracy: 75.53017944535074\n"
     ]
    },
    {
     "name": "stderr",
     "output_type": "stream",
     "text": [
      "Validation Batches: 100%|██████████| 40/40 [00:03<00:00, 11.99it/s]\n",
      "Epochs:  68%|██████▊   | 34/50 [05:05<02:39, 10.00s/it]"
     ]
    },
    {
     "name": "stdout",
     "output_type": "stream",
     "text": [
      "Val loss: 2.6503548134118318, Validation Accuracy: 72.6984126984127%\n",
      "Checkpoint saved at epoch 33 with validation accuracy: 72.6984126984127\n",
      "Epoch 33: LR updated: 0.0250 -> 0.0125\n"
     ]
    },
    {
     "name": "stderr",
     "output_type": "stream",
     "text": [
      "Training Batches: 100%|██████████| 77/77 [00:06<00:00, 11.04it/s]\n"
     ]
    },
    {
     "name": "stdout",
     "output_type": "stream",
     "text": [
      "------------------------------------------------------------------------------------------\n",
      "Epoch 34/50, Loss: 1.582570612788718, Train Accuracy: 79.11908646003262\n"
     ]
    },
    {
     "name": "stderr",
     "output_type": "stream",
     "text": [
      "Validation Batches: 100%|██████████| 40/40 [00:03<00:00, 13.00it/s]\n",
      "Epochs:  70%|███████   | 35/50 [05:15<02:30, 10.02s/it]"
     ]
    },
    {
     "name": "stdout",
     "output_type": "stream",
     "text": [
      "Val loss: 2.8375521925845417, Validation Accuracy: 66.98412698412699%\n",
      "Checkpoint saved at epoch 34 with validation accuracy: 66.98412698412699\n"
     ]
    },
    {
     "name": "stderr",
     "output_type": "stream",
     "text": [
      "Training Batches: 100%|██████████| 77/77 [00:06<00:00, 11.23it/s]\n"
     ]
    },
    {
     "name": "stdout",
     "output_type": "stream",
     "text": [
      "------------------------------------------------------------------------------------------\n",
      "Epoch 35/50, Loss: 1.7340331612953874, Train Accuracy: 79.28221859706362\n"
     ]
    },
    {
     "name": "stderr",
     "output_type": "stream",
     "text": [
      "Validation Batches: 100%|██████████| 40/40 [00:02<00:00, 16.23it/s]\n",
      "Epochs:  72%|███████▏  | 36/50 [05:24<02:17,  9.83s/it]"
     ]
    },
    {
     "name": "stdout",
     "output_type": "stream",
     "text": [
      "Val loss: 2.1908002449663515, Validation Accuracy: 73.65079365079364%\n",
      "Checkpoint saved at epoch 35 with validation accuracy: 73.65079365079364\n"
     ]
    },
    {
     "name": "stderr",
     "output_type": "stream",
     "text": [
      "Training Batches: 100%|██████████| 77/77 [00:07<00:00, 10.73it/s]\n"
     ]
    },
    {
     "name": "stdout",
     "output_type": "stream",
     "text": [
      "------------------------------------------------------------------------------------------\n",
      "Epoch 36/50, Loss: 1.6985273207768157, Train Accuracy: 78.30342577487765\n"
     ]
    },
    {
     "name": "stderr",
     "output_type": "stream",
     "text": [
      "Validation Batches: 100%|██████████| 40/40 [00:02<00:00, 13.95it/s]\n",
      "Epochs:  74%|███████▍  | 37/50 [05:34<02:08,  9.91s/it]"
     ]
    },
    {
     "name": "stdout",
     "output_type": "stream",
     "text": [
      "Val loss: 2.30775760397446, Validation Accuracy: 73.65079365079364%\n",
      "Checkpoint saved at epoch 36 with validation accuracy: 73.65079365079364\n"
     ]
    },
    {
     "name": "stderr",
     "output_type": "stream",
     "text": [
      "Training Batches: 100%|██████████| 77/77 [00:06<00:00, 11.56it/s]\n"
     ]
    },
    {
     "name": "stdout",
     "output_type": "stream",
     "text": [
      "------------------------------------------------------------------------------------------\n",
      "Epoch 37/50, Loss: 1.2955350277166375, Train Accuracy: 79.7716150081566\n"
     ]
    },
    {
     "name": "stderr",
     "output_type": "stream",
     "text": [
      "Validation Batches: 100%|██████████| 40/40 [00:02<00:00, 15.54it/s]\n",
      "Epochs:  76%|███████▌  | 38/50 [05:44<01:56,  9.72s/it]"
     ]
    },
    {
     "name": "stdout",
     "output_type": "stream",
     "text": [
      "Val loss: 2.5690958750321555, Validation Accuracy: 69.52380952380952%\n",
      "Checkpoint saved at epoch 37 with validation accuracy: 69.52380952380952\n"
     ]
    },
    {
     "name": "stderr",
     "output_type": "stream",
     "text": [
      "Training Batches: 100%|██████████| 77/77 [00:06<00:00, 11.30it/s]\n"
     ]
    },
    {
     "name": "stdout",
     "output_type": "stream",
     "text": [
      "------------------------------------------------------------------------------------------\n",
      "Epoch 38/50, Loss: 1.4881188790102235, Train Accuracy: 79.44535073409462\n"
     ]
    },
    {
     "name": "stderr",
     "output_type": "stream",
     "text": [
      "Validation Batches: 100%|██████████| 40/40 [00:02<00:00, 13.41it/s]\n",
      "Epochs:  78%|███████▊  | 39/50 [05:53<01:47,  9.76s/it]"
     ]
    },
    {
     "name": "stdout",
     "output_type": "stream",
     "text": [
      "Val loss: 1.9396454667776197, Validation Accuracy: 76.19047619047619%\n",
      "Checkpoint saved at epoch 38 with validation accuracy: 76.19047619047619\n"
     ]
    },
    {
     "name": "stderr",
     "output_type": "stream",
     "text": [
      "Training Batches: 100%|██████████| 77/77 [00:06<00:00, 11.11it/s]\n"
     ]
    },
    {
     "name": "stdout",
     "output_type": "stream",
     "text": [
      "------------------------------------------------------------------------------------------\n",
      "Epoch 39/50, Loss: 1.5131056690267317, Train Accuracy: 81.23980424143556\n"
     ]
    },
    {
     "name": "stderr",
     "output_type": "stream",
     "text": [
      "Validation Batches: 100%|██████████| 40/40 [00:03<00:00, 12.96it/s]\n",
      "Epochs:  80%|████████  | 40/50 [06:03<01:38,  9.85s/it]"
     ]
    },
    {
     "name": "stdout",
     "output_type": "stream",
     "text": [
      "Val loss: 1.842832849385013, Validation Accuracy: 75.23809523809524%\n",
      "Checkpoint saved at epoch 39 with validation accuracy: 75.23809523809524\n"
     ]
    },
    {
     "name": "stderr",
     "output_type": "stream",
     "text": [
      "Training Batches: 100%|██████████| 77/77 [00:06<00:00, 12.22it/s]\n"
     ]
    },
    {
     "name": "stdout",
     "output_type": "stream",
     "text": [
      "------------------------------------------------------------------------------------------\n",
      "Epoch 40/50, Loss: 1.3894711562883364, Train Accuracy: 81.07667210440457\n"
     ]
    },
    {
     "name": "stderr",
     "output_type": "stream",
     "text": [
      "Validation Batches: 100%|██████████| 40/40 [00:02<00:00, 14.28it/s]\n",
      "Epochs:  82%|████████▏ | 41/50 [06:13<01:26,  9.64s/it]"
     ]
    },
    {
     "name": "stdout",
     "output_type": "stream",
     "text": [
      "Val loss: 1.9538897745645953, Validation Accuracy: 74.92063492063492%\n",
      "Checkpoint saved at epoch 40 with validation accuracy: 74.92063492063492\n"
     ]
    },
    {
     "name": "stderr",
     "output_type": "stream",
     "text": [
      "Training Batches: 100%|██████████| 77/77 [00:06<00:00, 12.02it/s]\n"
     ]
    },
    {
     "name": "stdout",
     "output_type": "stream",
     "text": [
      "------------------------------------------------------------------------------------------\n",
      "Epoch 41/50, Loss: 1.4247094417855155, Train Accuracy: 79.9347471451876\n"
     ]
    },
    {
     "name": "stderr",
     "output_type": "stream",
     "text": [
      "Validation Batches: 100%|██████████| 40/40 [00:03<00:00, 12.40it/s]\n",
      "Epochs:  84%|████████▍ | 42/50 [06:22<01:17,  9.65s/it]"
     ]
    },
    {
     "name": "stdout",
     "output_type": "stream",
     "text": [
      "Val loss: 2.0713658048622507, Validation Accuracy: 73.96825396825396%\n",
      "Checkpoint saved at epoch 41 with validation accuracy: 73.96825396825396\n"
     ]
    },
    {
     "name": "stderr",
     "output_type": "stream",
     "text": [
      "Training Batches: 100%|██████████| 77/77 [00:07<00:00, 10.68it/s]\n"
     ]
    },
    {
     "name": "stdout",
     "output_type": "stream",
     "text": [
      "------------------------------------------------------------------------------------------\n",
      "Epoch 42/50, Loss: 1.556263913350579, Train Accuracy: 79.28221859706362\n"
     ]
    },
    {
     "name": "stderr",
     "output_type": "stream",
     "text": [
      "Validation Batches: 100%|██████████| 40/40 [00:03<00:00, 13.23it/s]\n",
      "Epochs:  86%|████████▌ | 43/50 [06:33<01:08,  9.84s/it]"
     ]
    },
    {
     "name": "stdout",
     "output_type": "stream",
     "text": [
      "Val loss: 1.8944514935836196, Validation Accuracy: 73.01587301587301%\n",
      "Checkpoint saved at epoch 42 with validation accuracy: 73.01587301587301\n"
     ]
    },
    {
     "name": "stderr",
     "output_type": "stream",
     "text": [
      "Training Batches: 100%|██████████| 77/77 [00:06<00:00, 12.00it/s]\n"
     ]
    },
    {
     "name": "stdout",
     "output_type": "stream",
     "text": [
      "------------------------------------------------------------------------------------------\n",
      "Epoch 43/50, Loss: 1.523096234466803, Train Accuracy: 79.9347471451876\n"
     ]
    },
    {
     "name": "stderr",
     "output_type": "stream",
     "text": [
      "Validation Batches: 100%|██████████| 40/40 [00:02<00:00, 13.49it/s]\n",
      "Epochs:  88%|████████▊ | 44/50 [06:42<00:58,  9.72s/it]"
     ]
    },
    {
     "name": "stdout",
     "output_type": "stream",
     "text": [
      "Val loss: 2.1954103675787335, Validation Accuracy: 74.92063492063492%\n",
      "Checkpoint saved at epoch 43 with validation accuracy: 74.92063492063492\n"
     ]
    },
    {
     "name": "stderr",
     "output_type": "stream",
     "text": [
      "Training Batches: 100%|██████████| 77/77 [00:07<00:00, 10.79it/s]\n"
     ]
    },
    {
     "name": "stdout",
     "output_type": "stream",
     "text": [
      "------------------------------------------------------------------------------------------\n",
      "Epoch 44/50, Loss: 1.3600661042314581, Train Accuracy: 79.60848287112562\n"
     ]
    },
    {
     "name": "stderr",
     "output_type": "stream",
     "text": [
      "Validation Batches: 100%|██████████| 40/40 [00:02<00:00, 14.22it/s]\n",
      "Epochs:  90%|█████████ | 45/50 [06:52<00:49,  9.80s/it]"
     ]
    },
    {
     "name": "stdout",
     "output_type": "stream",
     "text": [
      "Val loss: 1.9301871071293135, Validation Accuracy: 74.28571428571429%\n",
      "Checkpoint saved at epoch 44 with validation accuracy: 74.28571428571429\n",
      "Epoch 44: LR updated: 0.0125 -> 0.0063\n"
     ]
    },
    {
     "name": "stderr",
     "output_type": "stream",
     "text": [
      "Training Batches: 100%|██████████| 77/77 [00:07<00:00, 10.72it/s]\n"
     ]
    },
    {
     "name": "stdout",
     "output_type": "stream",
     "text": [
      "------------------------------------------------------------------------------------------\n",
      "Epoch 45/50, Loss: 1.3832217176356383, Train Accuracy: 79.9347471451876\n"
     ]
    },
    {
     "name": "stderr",
     "output_type": "stream",
     "text": [
      "Validation Batches: 100%|██████████| 40/40 [00:03<00:00, 11.82it/s]\n",
      "Epochs:  92%|█████████▏| 46/50 [07:03<00:40, 10.05s/it]"
     ]
    },
    {
     "name": "stdout",
     "output_type": "stream",
     "text": [
      "Val loss: 2.2069003966997114, Validation Accuracy: 71.74603174603175%\n",
      "Checkpoint saved at epoch 45 with validation accuracy: 71.74603174603175\n"
     ]
    },
    {
     "name": "stderr",
     "output_type": "stream",
     "text": [
      "Training Batches: 100%|██████████| 77/77 [00:09<00:00,  8.26it/s]\n"
     ]
    },
    {
     "name": "stdout",
     "output_type": "stream",
     "text": [
      "------------------------------------------------------------------------------------------\n",
      "Epoch 46/50, Loss: 1.2338402514983957, Train Accuracy: 81.89233278955955\n"
     ]
    },
    {
     "name": "stderr",
     "output_type": "stream",
     "text": [
      "Validation Batches: 100%|██████████| 40/40 [00:03<00:00, 10.09it/s]\n",
      "Epochs:  94%|█████████▍| 47/50 [07:16<00:33, 11.03s/it]"
     ]
    },
    {
     "name": "stdout",
     "output_type": "stream",
     "text": [
      "Val loss: 2.1146880514635984, Validation Accuracy: 69.52380952380952%\n",
      "Checkpoint saved at epoch 46 with validation accuracy: 69.52380952380952\n"
     ]
    },
    {
     "name": "stderr",
     "output_type": "stream",
     "text": [
      "Training Batches: 100%|██████████| 77/77 [00:09<00:00,  7.89it/s]\n"
     ]
    },
    {
     "name": "stdout",
     "output_type": "stream",
     "text": [
      "------------------------------------------------------------------------------------------\n",
      "Epoch 47/50, Loss: 1.3482454977233889, Train Accuracy: 80.2610114192496\n"
     ]
    },
    {
     "name": "stderr",
     "output_type": "stream",
     "text": [
      "Validation Batches: 100%|██████████| 40/40 [00:03<00:00, 11.88it/s]\n",
      "Epochs:  96%|█████████▌| 48/50 [07:29<00:23, 11.68s/it]"
     ]
    },
    {
     "name": "stdout",
     "output_type": "stream",
     "text": [
      "Val loss: 1.768501000723336, Validation Accuracy: 73.65079365079364%\n",
      "Checkpoint saved at epoch 47 with validation accuracy: 73.65079365079364\n"
     ]
    },
    {
     "name": "stderr",
     "output_type": "stream",
     "text": [
      "Training Batches: 100%|██████████| 77/77 [00:08<00:00,  8.98it/s]\n"
     ]
    },
    {
     "name": "stdout",
     "output_type": "stream",
     "text": [
      "------------------------------------------------------------------------------------------\n",
      "Epoch 48/50, Loss: 1.1759493513334793, Train Accuracy: 81.72920065252855\n"
     ]
    },
    {
     "name": "stderr",
     "output_type": "stream",
     "text": [
      "Validation Batches: 100%|██████████| 40/40 [00:03<00:00, 11.90it/s]\n",
      "Epochs:  98%|█████████▊| 49/50 [07:41<00:11, 11.77s/it]"
     ]
    },
    {
     "name": "stdout",
     "output_type": "stream",
     "text": [
      "Val loss: 2.042594178483887, Validation Accuracy: 73.01587301587301%\n",
      "Checkpoint saved at epoch 48 with validation accuracy: 73.01587301587301\n"
     ]
    },
    {
     "name": "stderr",
     "output_type": "stream",
     "text": [
      "Training Batches: 100%|██████████| 77/77 [00:07<00:00,  9.83it/s]\n"
     ]
    },
    {
     "name": "stdout",
     "output_type": "stream",
     "text": [
      "------------------------------------------------------------------------------------------\n",
      "Epoch 49/50, Loss: 1.0983786921171084, Train Accuracy: 82.05546492659055\n"
     ]
    },
    {
     "name": "stderr",
     "output_type": "stream",
     "text": [
      "Validation Batches: 100%|██████████| 40/40 [00:03<00:00, 12.26it/s]\n",
      "Epochs: 100%|██████████| 50/50 [07:52<00:00,  9.45s/it]\n"
     ]
    },
    {
     "name": "stdout",
     "output_type": "stream",
     "text": [
      "Val loss: 2.4982695010963196, Validation Accuracy: 63.17460317460318%\n",
      "Checkpoint saved at epoch 49 with validation accuracy: 63.17460317460318\n"
     ]
    },
    {
     "name": "stderr",
     "output_type": "stream",
     "text": [
      "100%|██████████| 9/9 [00:01<00:00,  6.57it/s]"
     ]
    },
    {
     "name": "stdout",
     "output_type": "stream",
     "text": [
      "Test Accuracy: 65.27777777777777%\n"
     ]
    },
    {
     "name": "stderr",
     "output_type": "stream",
     "text": [
      "\n"
     ]
    }
   ],
   "source": [
    "try:\n",
    "    config = ConfigurationManager()\n",
    "    training_config = config.get_training_config()\n",
    "    training = Training(training_config)\n",
    "    training.get_base_model()\n",
    "    training.get_dataloaders()\n",
    "    training.train()\n",
    "    training.test()\n",
    "except Exception as e:\n",
    "    raise e\n",
    "\n",
    "# NOTE: Load the best last model using load_checkpoint method, but firstly train the model and check the test accuracy \n",
    "# of the last model with the best checkpoint (last checkpoint)!\n",
    "\n",
    "# NOTE: Remaining: \n",
    "# 1) Change the top part of the model\n",
    "# 2) Train longer\n",
    "# 3) More augmentations? \n",
    "# 4) Different batch size? set to 8"
   ]
  },
  {
   "cell_type": "code",
   "execution_count": 9,
   "metadata": {},
   "outputs": [
    {
     "data": {
      "image/png": "[encoded data removed]",
      "text/plain": [
       "<Figure size 1700x800 with 2 Axes>"
      ]
     },
     "metadata": {},
     "output_type": "display_data"
    }
   ],
   "source": [
    "# Visualize the accuracies and losses over trainging for both validation and training\n",
    "\n",
    "# TODO: napravi metodu za vizualizirati ovo? \n",
    "\n",
    "import matplotlib.pyplot as plt\n",
    "\n",
    "fig, (ax1, ax2) = plt.subplots(1, 2, figsize=(17, 8))\n",
    "fig.suptitle(\"Model accuracies and losses\")\n",
    "ax1.plot(training.train_acc_history)\n",
    "ax1.plot(training.val_acc_history)\n",
    "ax1.set_title(\"Model Accuracies\")\n",
    "ax1.legend(['train', 'val'], loc='upper left')\n",
    "ax2.plot(training.train_loss_history)\n",
    "ax2.plot(training.val_loss_history)\n",
    "ax2.set_title(\"Model Losses\")\n",
    "ax2.legend(['train', 'val'], loc='upper left')\n",
    "plt.show()"
   ]
  },
  {
   "cell_type": "code",
   "execution_count": 15,
   "metadata": {},
   "outputs": [
    {
     "name": "stdout",
     "output_type": "stream",
     "text": [
      "[2024-05-22 19:33:43,247: INFO: common: YAML file: config/config.yaml loaded successfully!]\n",
      "[2024-05-22 19:33:43,249: INFO: common: YAML file: params.yaml loaded successfully!]\n",
      "[2024-05-22 19:33:43,250: INFO: common: Created directory at: artifacts]\n",
      "[2024-05-22 19:33:43,254: INFO: common: Created directory at: artifacts/training]\n",
      "[2024-05-22 19:33:43,255: INFO: common: Created directory at: artifacts/training/checkpoints]\n",
      "(29,\n",
      " {'param_groups': [{'amsgrad': False,\n",
      "                    'betas': (0.9, 0.999),\n",
      "                    'capturable': False,\n",
      "                    'differentiable': False,\n",
      "                    'eps': 1e-08,\n",
      "                    'foreach': None,\n",
      "                    'fused': None,\n",
      "                    'lr': 0.025,\n",
      "                    'maximize': False,\n",
      "                    'params': [0,\n",
      "                               1,\n",
      "                               2,\n",
      "                               3,\n",
      "                               4,\n",
      "                               5,\n",
      "                               6,\n",
      "                               7,\n",
      "                               8,\n",
      "                               9,\n",
      "                               10,\n",
      "                               11,\n",
      "                               12,\n",
      "                               13,\n",
      "                               14,\n",
      "                               15,\n",
      "                               16,\n",
      "                               17,\n",
      "                               18,\n",
      "                               19,\n",
      "                               20,\n",
      "                               21,\n",
      "                               22,\n",
      "                               23,\n",
      "                               24,\n",
      "                               25,\n",
      "                               26,\n",
      "                               27,\n",
      "                               28,\n",
      "                               29,\n",
      "                               30,\n",
      "                               31,\n",
      "                               32,\n",
      "                               33,\n",
      "                               34,\n",
      "                               35,\n",
      "                               36,\n",
      "                               37,\n",
      "                               38,\n",
      "                               39,\n",
      "                               40,\n",
      "                               41,\n",
      "                               42,\n",
      "                               43,\n",
      "                               44,\n",
      "                               45,\n",
      "                               46,\n",
      "                               47,\n",
      "                               48,\n",
      "                               49,\n",
      "                               50,\n",
      "                               51,\n",
      "                               52,\n",
      "                               53,\n",
      "                               54,\n",
      "                               55,\n",
      "                               56,\n",
      "                               57,\n",
      "                               58,\n",
      "                               59,\n",
      "                               60,\n",
      "                               61,\n",
      "                               62,\n",
      "                               63,\n",
      "                               64,\n",
      "                               65,\n",
      "                               66,\n",
      "                               67,\n",
      "                               68,\n",
      "                               69,\n",
      "                               70,\n",
      "                               71,\n",
      "                               72,\n",
      "                               73,\n",
      "                               74,\n",
      "                               75,\n",
      "                               76,\n",
      "                               77,\n",
      "                               78,\n",
      "                               79,\n",
      "                               80,\n",
      "                               81,\n",
      "                               82,\n",
      "                               83,\n",
      "                               84,\n",
      "                               85,\n",
      "                               86,\n",
      "                               87,\n",
      "                               88,\n",
      "                               89,\n",
      "                               90,\n",
      "                               91,\n",
      "                               92,\n",
      "                               93,\n",
      "                               94,\n",
      "                               95,\n",
      "                               96,\n",
      "                               97,\n",
      "                               98,\n",
      "                               99,\n",
      "                               100,\n",
      "                               101,\n",
      "                               102,\n",
      "                               103,\n",
      "                               104,\n",
      "                               105,\n",
      "                               106,\n",
      "                               107,\n",
      "                               108,\n",
      "                               109,\n",
      "                               110,\n",
      "                               111,\n",
      "                               112,\n",
      "                               113,\n",
      "                               114,\n",
      "                               115,\n",
      "                               116,\n",
      "                               117,\n",
      "                               118,\n",
      "                               119,\n",
      "                               120,\n",
      "                               121,\n",
      "                               122,\n",
      "                               123,\n",
      "                               124,\n",
      "                               125,\n",
      "                               126,\n",
      "                               127,\n",
      "                               128,\n",
      "                               129,\n",
      "                               130,\n",
      "                               131,\n",
      "                               132,\n",
      "                               133,\n",
      "                               134,\n",
      "                               135,\n",
      "                               136,\n",
      "                               137,\n",
      "                               138,\n",
      "                               139,\n",
      "                               140,\n",
      "                               141,\n",
      "                               142,\n",
      "                               143,\n",
      "                               144,\n",
      "                               145,\n",
      "                               146,\n",
      "                               147,\n",
      "                               148,\n",
      "                               149,\n",
      "                               150,\n",
      "                               151,\n",
      "                               152,\n",
      "                               153,\n",
      "                               154,\n",
      "                               155,\n",
      "                               156,\n",
      "                               157,\n",
      "                               158,\n",
      "                               159,\n",
      "                               160,\n",
      "                               161,\n",
      "                               162,\n",
      "                               163,\n",
      "                               164,\n",
      "                               165,\n",
      "                               166,\n",
      "                               167,\n",
      "                               168,\n",
      "                               169,\n",
      "                               170,\n",
      "                               171,\n",
      "                               172,\n",
      "                               173,\n",
      "                               174,\n",
      "                               175,\n",
      "                               176,\n",
      "                               177,\n",
      "                               178,\n",
      "                               179,\n",
      "                               180,\n",
      "                               181,\n",
      "                               182,\n",
      "                               183,\n",
      "                               184,\n",
      "                               185,\n",
      "                               186,\n",
      "                               187,\n",
      "                               188,\n",
      "                               189,\n",
      "                               190,\n",
      "                               191,\n",
      "                               192,\n",
      "                               193,\n",
      "                               194,\n",
      "                               195,\n",
      "                               196,\n",
      "                               197,\n",
      "                               198,\n",
      "                               199,\n",
      "                               200,\n",
      "                               201,\n",
      "                               202,\n",
      "                               203,\n",
      "                               204,\n",
      "                               205,\n",
      "                               206,\n",
      "                               207,\n",
      "                               208,\n",
      "                               209,\n",
      "                               210,\n",
      "                               211,\n",
      "                               212],\n",
      "                    'weight_decay': 0.0005}],\n",
      "  'state': {211: {'exp_avg': tensor([[-3.1379e-03,  4.6126e-04,  1.4871e-03,  ...,  1.7707e-02,\n",
      "          1.3230e-03,  5.7134e-03],\n",
      "        [-2.2955e-03, -3.2114e-03, -7.8503e-04,  ..., -1.4835e-02,\n",
      "         -6.2360e-04, -5.9993e-03],\n",
      "        [ 6.7062e-03, -9.0461e-05, -2.3589e-04,  ..., -2.1986e-03,\n",
      "         -7.9017e-03, -3.2460e-05],\n",
      "        [-1.1319e-03,  3.0234e-03, -4.0804e-04,  ..., -7.3494e-04,\n",
      "          7.0071e-03,  3.8826e-04]], device='cuda:0'),\n",
      "                  'exp_avg_sq': tensor([[0.0021, 0.0031, 0.0027,  ..., 0.0030, 0.0019, 0.0034],\n",
      "        [0.0016, 0.0022, 0.0019,  ..., 0.0021, 0.0012, 0.0020],\n",
      "        [0.0005, 0.0003, 0.0004,  ..., 0.0004, 0.0011, 0.0007],\n",
      "        [0.0016, 0.0028, 0.0021,  ..., 0.0027, 0.0014, 0.0027]],\n",
      "       device='cuda:0'),\n",
      "                  'step': tensor(2310.)},\n",
      "            212: {'exp_avg': tensor([-0.0125,  0.0135,  0.0001, -0.0014], device='cuda:0'),\n",
      "                  'exp_avg_sq': tensor([0.0271, 0.0191, 0.0072, 0.0225], device='cuda:0'),\n",
      "                  'step': tensor(2310.)}}},\n",
      " {'_last_lr': [0.025],\n",
      "  'best': 55.55555555555556,\n",
      "  'cooldown': 0,\n",
      "  'cooldown_counter': 0,\n",
      "  'eps': 1e-08,\n",
      "  'factor': 0.5,\n",
      "  'last_epoch': 29,\n",
      "  'min_lrs': [0],\n",
      "  'mode': 'min',\n",
      "  'mode_worse': inf,\n",
      "  'num_bad_epochs': 6,\n",
      "  'patience': 10,\n",
      "  'threshold': 0.0001,\n",
      "  'threshold_mode': 'rel',\n",
      "  'verbose': False},\n",
      " 76.5079365079365,\n",
      " 2.471469943503325)\n"
     ]
    },
    {
     "name": "stderr",
     "output_type": "stream",
     "text": [
      "100%|██████████| 9/9 [00:00<00:00, 16.25it/s]"
     ]
    },
    {
     "name": "stdout",
     "output_type": "stream",
     "text": [
      "Test Accuracy: 77.77777777777777%\n"
     ]
    },
    {
     "name": "stderr",
     "output_type": "stream",
     "text": [
      "\n"
     ]
    }
   ],
   "source": [
    "# TODO: Loadaj model i usporedi test acc\n",
    "import pprint\n",
    "\n",
    "\n",
    "config = ConfigurationManager()\n",
    "training_config = config.get_training_config()\n",
    "training_test = Training(training_config)\n",
    "# training_test.model = torch.load(\"artifacts/training/checkpoints/best.pt\").to(torch.device(\"cuda:0\" if torch.cuda.is_available() else \"cpu\"))\n",
    "# training_test.model = torch.load(\"models/best.pt\").to(torch.device(\"cuda:0\" if torch.cuda.is_available() else \"cpu\"))\n",
    "training_test.get_base_model()\n",
    "PATH = \"artifacts/training/checkpoints/checkpoint_epoch_29.pth\"\n",
    "checkpoint = training_test.load_checkpoint(PATH)\n",
    "pprint.pprint(checkpoint)\n",
    "training_test.get_dataloaders()\n",
    "training_test.test()"
   ]
  },
  {
   "cell_type": "code",
   "execution_count": 16,
   "metadata": {},
   "outputs": [
    {
     "name": "stderr",
     "output_type": "stream",
     "text": [
      "100%|██████████| 9/9 [00:00<00:00, 17.88it/s]\n"
     ]
    }
   ],
   "source": [
    "from sklearn.metrics import ConfusionMatrixDisplay, confusion_matrix, classification_report\n",
    "\n",
    "class_to_index = {'adenocarcinoma': 0, 'large.cell.carcinoma': 1, 'normal': 2, 'squamous.cell.carcinoma': 3}\n",
    "index_to_class = {0: 'adenocarcinoma', 1: 'large.cell.carcinoma', 2: 'normal', 3: 'squamous.cell.carcinoma'}\n",
    "\n",
    "\n",
    "# cm = confusion_matrix(y_real, y_pred)\n",
    "# disp = ConfusionMatrixDisplay(confusion_matrix=cm, display_labels=labels)\n",
    "# disp.plot()\n",
    "# plt.title(\"My confusion matrix\")\n",
    "# plt.show()\n",
    "\n",
    "training.model.eval()\n",
    "y_test = []\n",
    "predictions = []\n",
    "\n",
    "with torch.no_grad():\n",
    "    for inputs, labels in tqdm(training.test_loader):\n",
    "        inputs, labels = inputs.to(training.device), labels.to(training.device)\n",
    "        outputs = training.model(inputs)\n",
    "        _, predicted = torch.max(outputs, 1)\n",
    "        \n",
    "        y_test.extend(labels.cpu().numpy().tolist())\n",
    "        predictions.extend(predicted.cpu().numpy().tolist())"
   ]
  },
  {
   "cell_type": "code",
   "execution_count": 17,
   "metadata": {},
   "outputs": [
    {
     "data": {
      "image/png": "[encoded data removed]",
      "text/plain": [
       "<Figure size 640x480 with 2 Axes>"
      ]
     },
     "metadata": {},
     "output_type": "display_data"
    }
   ],
   "source": [
    "cm = confusion_matrix(y_test, predictions)\n",
    "label_names = list({'adenocarcinoma': 0, 'large.cell.carcinoma': 1, 'normal': 2, 'squamous.cell.carcinoma': 3}.keys())\n",
    "ConfusionMatrixDisplay(cm, display_labels=label_names).plot().figure_.savefig(\"models/aug_confusion_matrix.png\")\n",
    "plt.show()"
   ]
  },
  {
   "cell_type": "code",
   "execution_count": 19,
   "metadata": {},
   "outputs": [
    {
     "name": "stdout",
     "output_type": "stream",
     "text": [
      "[2024-05-22 19:34:09,365: INFO: common: JSON file saved at models/aug_classification_report.json]\n",
      "                         precision    recall  f1-score   support\n",
      "\n",
      "         adenocarcinoma       0.53      0.78      0.63        23\n",
      "   large.cell.carcinoma       1.00      0.48      0.65        21\n",
      "                 normal       1.00      0.62      0.76        13\n",
      "squamous.cell.carcinoma       0.55      0.73      0.63        15\n",
      "\n",
      "               accuracy                           0.65        72\n",
      "              macro avg       0.77      0.65      0.67        72\n",
      "           weighted avg       0.76      0.65      0.66        72\n",
      "\n"
     ]
    }
   ],
   "source": [
    "cr_dict = classification_report(y_test, predictions, target_names=label_names, output_dict=True)\n",
    "save_json(cr_dict, Path(\"models/aug_classification_report.json\"))\n",
    "print(classification_report(y_test, predictions, target_names=label_names, output_dict=False))"
   ]
  },
  {
   "cell_type": "code",
   "execution_count": 21,
   "metadata": {},
   "outputs": [
    {
     "name": "stdout",
     "output_type": "stream",
     "text": [
      "Accuracy per class:\n",
      "adenocarcinoma: 0.782608695652174\n",
      "large.cell.carcinoma: 0.47619047619047616\n",
      "normal: 0.6153846153846154\n",
      "squamous.cell.carcinoma: 0.7333333333333333\n",
      "[2024-05-22 19:34:12,085: INFO: common: JSON file saved at models/aug_acc_per_class.json]\n"
     ]
    }
   ],
   "source": [
    "acc_per_class = cm.diagonal()/cm.sum(axis=1).tolist()\n",
    "\n",
    "acc_per_class_dict = {}\n",
    "print(\"Accuracy per class:\")\n",
    "for i, class_ in enumerate(class_to_index):\n",
    "    print(f\"{class_}: {acc_per_class[i]}\")\n",
    "    acc_per_class_dict[class_] = acc_per_class[i]\n",
    "\n",
    "save_json(acc_per_class_dict, Path(\"models/aug_acc_per_class.json\"))"
   ]
  }
 ],
 "metadata": {
  "kernelspec": {
   "display_name": ".venv",
   "language": "python",
   "name": "python3"
  },
  "language_info": {
   "codemirror_mode": {
    "name": "ipython",
    "version": 3
   },
   "file_extension": ".py",
   "mimetype": "text/x-python",
   "name": "python",
   "nbconvert_exporter": "python",
   "pygments_lexer": "ipython3",
   "version": "3.12.3"
  }
 },
 "nbformat": 4,
 "nbformat_minor": 2
}
