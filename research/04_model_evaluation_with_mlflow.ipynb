{
 "cells": [
  {
   "cell_type": "code",
   "execution_count": 1,
   "metadata": {},
   "outputs": [
    {
     "data": {
      "text/plain": [
       "'/home/fbutic/Documents/cancer-classification/research'"
      ]
     },
     "execution_count": 1,
     "metadata": {},
     "output_type": "execute_result"
    }
   ],
   "source": [
    "%pwd"
   ]
  },
  {
   "cell_type": "code",
   "execution_count": 2,
   "metadata": {},
   "outputs": [],
   "source": [
    "import os\n",
    "os.chdir(\"..\")"
   ]
  },
  {
   "cell_type": "code",
   "execution_count": 3,
   "metadata": {},
   "outputs": [
    {
     "data": {
      "text/plain": [
       "'/home/fbutic/Documents/cancer-classification'"
      ]
     },
     "execution_count": 3,
     "metadata": {},
     "output_type": "execute_result"
    }
   ],
   "source": [
    "%pwd"
   ]
  },
  {
   "cell_type": "code",
   "execution_count": 4,
   "metadata": {},
   "outputs": [],
   "source": [
    "# Do not show this to anyone; use secrets.yaml (ask chatgpt for start how to do it and where?)\n",
    "os.environ[\"MLFLOW_TRACKING_URI\"]=\"https://dagshub.com/buzaXnov/cancer-classification.mlflow\"\n",
    "os.environ[\"MLFLOW_TRACKING_USERNAME\"]=\"buzaXnov\"\n",
    "os.environ[\"MLFLOW_TRACKING_PASSWORD\"]=\"c2f97b6e1897763abc2b78d3781adbbf30ba2026\""
   ]
  },
  {
   "cell_type": "markdown",
   "metadata": {},
   "source": [
    "MLFLOW_TRACKING_URI=https://dagshub.com/buzaXnov/cancer-classification.mlflow \\\n",
    "MLFLOW_TRACKING_USERNAME=buzaXnov \\\n",
    "MLFLOW_TRACKING_PASSWORD=c2f97b6e1897763abc2b78d3781adbbf30ba2026 \\\n",
    "python script.py"
   ]
  },
  {
   "cell_type": "code",
   "execution_count": 5,
   "metadata": {},
   "outputs": [],
   "source": [
    "import torch\n",
    "\n",
    "from cnnClassifier.components.training import Training\n",
    "from cnnClassifier.config.configuration import ConfigurationManager"
   ]
  },
  {
   "cell_type": "code",
   "execution_count": 6,
   "metadata": {},
   "outputs": [],
   "source": [
    "device = torch.device(\"cuda:0\" if torch.cuda.is_available() else \"cpu\")\n",
    "model = torch.load(\"artifacts/training/checkpoints/best.pt\")"
   ]
  },
  {
   "cell_type": "code",
   "execution_count": 7,
   "metadata": {},
   "outputs": [],
   "source": [
    "from pathlib import Path\n",
    "from dataclasses import dataclass\n",
    "from cnnClassifier.constants import CONFIG_FILE_PATH, PARAMS_FILE_PATH\n",
    "from cnnClassifier.utils.common import read_yaml, create_directories, save_json\n",
    "\n",
    "@dataclass(frozen=True)\n",
    "class EvaluationConfig:\n",
    "    path_of_model: Path\n",
    "    training_data: Path\n",
    "    all_params: dict\n",
    "    mlflow_uri: str\n",
    "    params_image_size: list\n",
    "    params_batch_size: int"
   ]
  },
  {
   "cell_type": "code",
   "execution_count": 8,
   "metadata": {},
   "outputs": [],
   "source": [
    "class ConfigurationManager:\n",
    "    def __init__(\n",
    "        self, config_filepath=CONFIG_FILE_PATH, params_filepath=PARAMS_FILE_PATH\n",
    "    ) -> None:\n",
    "        self.config = read_yaml(config_filepath)\n",
    "        self.params = read_yaml(params_filepath)\n",
    "\n",
    "        create_directories([self.config.artifacts_root])\n",
    "\n",
    "    def get_eval_config(self) -> EvaluationConfig:\n",
    "        training = self.config.training\n",
    "        training_data = os.path.join(self.config.data_ingestion.unzip_dir, \"Data\")\n",
    "        model_path = os.path.join(training.checkpoints_dir, \"best.pt\")\n",
    "\n",
    "        eval_config = EvaluationConfig(\n",
    "            path_of_model=model_path,\n",
    "            training_data=training_data,\n",
    "            all_params=self.params,\n",
    "            mlflow_uri=os.getenv(\"MLFLOW_TRACKING_URI\"),\n",
    "            params_image_size=self.params.IMAGE_SIZE,\n",
    "            params_batch_size=self.params.BATCH_SIZE\n",
    "        )\n",
    "\n",
    "        return eval_config"
   ]
  },
  {
   "cell_type": "code",
   "execution_count": 9,
   "metadata": {},
   "outputs": [],
   "source": [
    "import os\n",
    "\n",
    "import torch\n",
    "import torch.nn as nn\n",
    "import torchvision as torchvision\n",
    "from torchvision import transforms\n",
    "import torch.utils.data as data\n",
    "from tqdm import tqdm"
   ]
  },
  {
   "cell_type": "code",
   "execution_count": 10,
   "metadata": {},
   "outputs": [],
   "source": [
    "from urllib.parse import urlparse\n",
    "import mlflow\n",
    "\n",
    "\n",
    "class Evaluation:\n",
    "    def __init__(self, config) -> None:\n",
    "        self.config: EvaluationConfig = config\n",
    "        self.device = torch.device(\"cuda:0\" if torch.cuda.is_available() else \"cpu\")\n",
    "        self.model = None\n",
    "\n",
    "    def get_trained_model(self):\n",
    "        \"\"\"Download the base model.\"\"\"\n",
    "        self.model = torch.load(self.config.path_of_model).to(self.device)\n",
    "\n",
    "    def get_dataloader(self):\n",
    "        \"\"\"Create the dataloader for the test dataset.\"\"\"\n",
    "        TEST_DATA_PATH = os.path.join(self.config.training_data, \"test\")\n",
    "\n",
    "        transform_img = transforms.Compose(\n",
    "            [\n",
    "                transforms.Resize(self.config.params_image_size[:-1]),\n",
    "                transforms.ToTensor(),\n",
    "                transforms.Normalize(\n",
    "                    mean=[0.485, 0.456, 0.406], std=[0.229, 0.224, 0.225]\n",
    "                ),\n",
    "            ]\n",
    "        )\n",
    "\n",
    "        test_dataset = torchvision.datasets.ImageFolder(root=TEST_DATA_PATH, transform=transform_img)\n",
    "\n",
    "        # Dataloaders\n",
    "        BATCH_SIZE = self.config.params_batch_size\n",
    "        self.test_loader = data.DataLoader(\n",
    "            dataset=test_dataset, batch_size=BATCH_SIZE, shuffle=False, num_workers=4\n",
    "        )\n",
    "\n",
    "    def test(self):\n",
    "        self.model.eval()\n",
    "        total, correct = 0, 0\n",
    "        with torch.no_grad():\n",
    "            for inputs, labels in tqdm(self.test_loader):\n",
    "                inputs, labels = inputs.to(self.device), labels.to(self.device)\n",
    "                outputs = self.model(inputs)\n",
    "                _, predicted = torch.max(outputs, 1)\n",
    "                total += labels.size(0)\n",
    "                correct += (predicted == labels).sum().item()\n",
    "        self.test_accuracy = 100 * correct / total        \n",
    "\n",
    "        print(f\"Test Accuracy: {self.test_accuracy}%\")\n",
    "    \n",
    "    def save_score(self):\n",
    "        scores = { \"test_accuracy\": self.test_accuracy }\n",
    "        save_json(scores, Path(\"scores.json\"))\n",
    "\n",
    "    def log_into_mlflow(self):\n",
    "        mlflow.set_registry_uri(self.config.mlflow_uri)\n",
    "        tracking_uri_type_store = urlparse(mlflow.get_tracking_uri()).scheme\n",
    "\n",
    "        with mlflow.start_run():\n",
    "            mlflow.log_params(self.config.all_params)\n",
    "            mlflow.log_metrics(\n",
    "                {\"test_accuracy\" : self.test_accuracy}\n",
    "            )\n",
    "\n",
    "            if tracking_uri_type_store != \"file\":\n",
    "                mlflow.pytorch.log_model(self.model, \"model\", registered_model_name=\"VGG16\")\n",
    "            else:\n",
    "                mlflow.pytorch.log_model(self.model, \"model\")"
   ]
  },
  {
   "cell_type": "code",
   "execution_count": 11,
   "metadata": {},
   "outputs": [
    {
     "name": "stdout",
     "output_type": "stream",
     "text": [
      "[2024-05-15 15:40:35,945: INFO: common: YAML file: config/config.yaml loaded successfully!]\n",
      "[2024-05-15 15:40:35,949: INFO: common: YAML file: params.yaml loaded successfully!]\n",
      "[2024-05-15 15:40:35,951: INFO: common: Created directory at: artifacts]\n"
     ]
    },
    {
     "name": "stderr",
     "output_type": "stream",
     "text": [
      "100%|██████████| 20/20 [00:01<00:00, 11.93it/s]\n"
     ]
    },
    {
     "name": "stdout",
     "output_type": "stream",
     "text": [
      "Test Accuracy: 56.507936507936506%\n"
     ]
    },
    {
     "name": "stderr",
     "output_type": "stream",
     "text": [
      "Registered model 'VGG16' already exists. Creating a new version of this model...\n",
      "2024/05/15 15:42:35 INFO mlflow.store.model_registry.abstract_store: Waiting up to 300 seconds for model version to finish creation. Model name: VGG16, version 3\n",
      "Created version '3' of model 'VGG16'.\n"
     ]
    },
    {
     "name": "stdout",
     "output_type": "stream",
     "text": [
      "[2024-05-15 15:42:36,289: INFO: common: JSON file saved at scores.json]\n"
     ]
    }
   ],
   "source": [
    "try:\n",
    "    config = ConfigurationManager()\n",
    "    eval_config = config.get_eval_config()\n",
    "    evaluation = Evaluation(eval_config)\n",
    "    evaluation.get_trained_model()\n",
    "    evaluation.get_dataloader()\n",
    "    evaluation.test()\n",
    "    evaluation.log_into_mlflow()\n",
    "    evaluation.save_score()\n",
    "except Exception as e:\n",
    "    raise e"
   ]
  },
  {
   "cell_type": "code",
   "execution_count": null,
   "metadata": {},
   "outputs": [],
   "source": []
  }
 ],
 "metadata": {
  "kernelspec": {
   "display_name": ".venv",
   "language": "python",
   "name": "python3"
  },
  "language_info": {
   "codemirror_mode": {
    "name": "ipython",
    "version": 3
   },
   "file_extension": ".py",
   "mimetype": "text/x-python",
   "name": "python",
   "nbconvert_exporter": "python",
   "pygments_lexer": "ipython3",
   "version": "3.12.3"
  }
 },
 "nbformat": 4,
 "nbformat_minor": 2
}
